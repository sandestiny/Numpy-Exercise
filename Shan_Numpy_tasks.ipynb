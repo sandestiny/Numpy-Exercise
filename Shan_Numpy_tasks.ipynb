{
  "cells": [
    {
      "cell_type": "markdown",
      "metadata": {
        "id": "2cI4HQLB_Yh0"
      },
      "source": [
        "# Numpy\n",
        "\n"
      ]
    },
    {
      "cell_type": "markdown",
      "metadata": {
        "id": "KkU50kBY_Yh3"
      },
      "source": [
        "#### 1. Import the numpy package under the name `np` (★☆☆) \n",
        "(**hint**: import … as …)"
      ]
    },
    {
      "cell_type": "code",
      "execution_count": null,
      "metadata": {
        "collapsed": true,
        "id": "oAhJ2Byf_Yh4"
      },
      "outputs": [],
      "source": [
        "import numpy as np"
      ]
    },
    {
      "cell_type": "markdown",
      "metadata": {
        "id": "WpAcVFvA_Yh4"
      },
      "source": [
        "#### 2. Print the numpy version and the configuration (★☆☆) \n",
        "(**hint**: np.\\_\\_version\\_\\_, np.show\\_config)"
      ]
    },
    {
      "cell_type": "code",
      "execution_count": null,
      "metadata": {
        "id": "Gm3xZTDb_Yh5",
        "colab": {
          "base_uri": "https://localhost:8080/"
        },
        "outputId": "e49b5663-416a-4724-8bc2-6c0e39dadedc"
      },
      "outputs": [
        {
          "output_type": "stream",
          "name": "stdout",
          "text": [
            "1.21.6\n",
            "blas_mkl_info:\n",
            "  NOT AVAILABLE\n",
            "blis_info:\n",
            "  NOT AVAILABLE\n",
            "openblas_info:\n",
            "    libraries = ['openblas', 'openblas']\n",
            "    library_dirs = ['/usr/local/lib']\n",
            "    language = c\n",
            "    define_macros = [('HAVE_CBLAS', None)]\n",
            "    runtime_library_dirs = ['/usr/local/lib']\n",
            "blas_opt_info:\n",
            "    libraries = ['openblas', 'openblas']\n",
            "    library_dirs = ['/usr/local/lib']\n",
            "    language = c\n",
            "    define_macros = [('HAVE_CBLAS', None)]\n",
            "    runtime_library_dirs = ['/usr/local/lib']\n",
            "lapack_mkl_info:\n",
            "  NOT AVAILABLE\n",
            "openblas_lapack_info:\n",
            "    libraries = ['openblas', 'openblas']\n",
            "    library_dirs = ['/usr/local/lib']\n",
            "    language = c\n",
            "    define_macros = [('HAVE_CBLAS', None)]\n",
            "    runtime_library_dirs = ['/usr/local/lib']\n",
            "lapack_opt_info:\n",
            "    libraries = ['openblas', 'openblas']\n",
            "    library_dirs = ['/usr/local/lib']\n",
            "    language = c\n",
            "    define_macros = [('HAVE_CBLAS', None)]\n",
            "    runtime_library_dirs = ['/usr/local/lib']\n",
            "Supported SIMD extensions in this NumPy install:\n",
            "    baseline = SSE,SSE2,SSE3\n",
            "    found = SSSE3,SSE41,POPCNT,SSE42,AVX,F16C,FMA3,AVX2\n",
            "    not found = AVX512F,AVX512CD,AVX512_KNL,AVX512_KNM,AVX512_SKX,AVX512_CLX,AVX512_CNL,AVX512_ICL\n"
          ]
        }
      ],
      "source": [
        "print(np.__version__)\n",
        "np.show_config()"
      ]
    },
    {
      "cell_type": "markdown",
      "metadata": {
        "id": "Samzuccn_Yh5"
      },
      "source": [
        "#### 3. Create a null vector of size 10 (★☆☆) \n",
        "(**hint**: np.zeros)"
      ]
    },
    {
      "cell_type": "code",
      "execution_count": null,
      "metadata": {
        "id": "u6DT_Ps0_Yh5",
        "colab": {
          "base_uri": "https://localhost:8080/"
        },
        "outputId": "bebc35ab-8815-4995-c0fe-8bee1b4c5b3e"
      },
      "outputs": [
        {
          "output_type": "stream",
          "name": "stdout",
          "text": [
            "[0. 0. 0. 0. 0. 0. 0. 0. 0. 0.]\n"
          ]
        }
      ],
      "source": [
        "import numpy as np\n",
        "x = np.zeros(10)\n",
        "print(x)"
      ]
    },
    {
      "cell_type": "markdown",
      "metadata": {
        "id": "vga4cNA7_Yh6"
      },
      "source": [
        "#### 4.  How to find the memory size of any array (★☆☆) \n",
        "(**hint**: size, itemsize)"
      ]
    },
    {
      "cell_type": "code",
      "execution_count": null,
      "metadata": {
        "id": "waQxmNXv_Yh6",
        "colab": {
          "base_uri": "https://localhost:8080/"
        },
        "outputId": "def41c25-ae52-4b08-ed7d-a50bb9f083bf"
      },
      "outputs": [
        {
          "output_type": "stream",
          "name": "stdout",
          "text": [
            "48 bytes\n"
          ]
        }
      ],
      "source": [
        "import numpy as np\n",
        "n = np.zeros((2,3))\n",
        "print(\"%d bytes\" % (n.size * n.itemsize))"
      ]
    },
    {
      "cell_type": "markdown",
      "metadata": {
        "id": "nPoGP94Y_Yh7"
      },
      "source": [
        "#### 5.  How to get the documentation of the numpy add function from the command line? (★☆☆) \n",
        "(**hint**: np.info)"
      ]
    },
    {
      "cell_type": "code",
      "execution_count": null,
      "metadata": {
        "collapsed": true,
        "id": "Q0THNhI__Yh7",
        "colab": {
          "base_uri": "https://localhost:8080/"
        },
        "outputId": "d50782d0-4107-4359-8e47-da87b7fcf487"
      },
      "outputs": [
        {
          "output_type": "stream",
          "name": "stdout",
          "text": [
            "add(x1, x2, /, out=None, *, where=True, casting='same_kind', order='K', dtype=None, subok=True[, signature, extobj])\n",
            "\n",
            "Add arguments element-wise.\n",
            "\n",
            "Parameters\n",
            "----------\n",
            "x1, x2 : array_like\n",
            "    The arrays to be added.\n",
            "    If ``x1.shape != x2.shape``, they must be broadcastable to a common\n",
            "    shape (which becomes the shape of the output).\n",
            "out : ndarray, None, or tuple of ndarray and None, optional\n",
            "    A location into which the result is stored. If provided, it must have\n",
            "    a shape that the inputs broadcast to. If not provided or None,\n",
            "    a freshly-allocated array is returned. A tuple (possible only as a\n",
            "    keyword argument) must have length equal to the number of outputs.\n",
            "where : array_like, optional\n",
            "    This condition is broadcast over the input. At locations where the\n",
            "    condition is True, the `out` array will be set to the ufunc result.\n",
            "    Elsewhere, the `out` array will retain its original value.\n",
            "    Note that if an uninitialized `out` array is created via the default\n",
            "    ``out=None``, locations within it where the condition is False will\n",
            "    remain uninitialized.\n",
            "**kwargs\n",
            "    For other keyword-only arguments, see the\n",
            "    :ref:`ufunc docs <ufuncs.kwargs>`.\n",
            "\n",
            "Returns\n",
            "-------\n",
            "add : ndarray or scalar\n",
            "    The sum of `x1` and `x2`, element-wise.\n",
            "    This is a scalar if both `x1` and `x2` are scalars.\n",
            "\n",
            "Notes\n",
            "-----\n",
            "Equivalent to `x1` + `x2` in terms of array broadcasting.\n",
            "\n",
            "Examples\n",
            "--------\n",
            ">>> np.add(1.0, 4.0)\n",
            "5.0\n",
            ">>> x1 = np.arange(9.0).reshape((3, 3))\n",
            ">>> x2 = np.arange(3.0)\n",
            ">>> np.add(x1, x2)\n",
            "array([[  0.,   2.,   4.],\n",
            "       [  3.,   5.,   7.],\n",
            "       [  6.,   8.,  10.]])\n",
            "\n",
            "The ``+`` operator can be used as a shorthand for ``np.add`` on ndarrays.\n",
            "\n",
            ">>> x1 = np.arange(9.0).reshape((3, 3))\n",
            ">>> x2 = np.arange(3.0)\n",
            ">>> x1 + x2\n",
            "array([[ 0.,  2.,  4.],\n",
            "       [ 3.,  5.,  7.],\n",
            "       [ 6.,  8., 10.]])\n",
            "None\n"
          ]
        }
      ],
      "source": [
        "import numpy as np\n",
        "print(np.info(np.add))"
      ]
    },
    {
      "cell_type": "markdown",
      "metadata": {
        "id": "NpivABDz_Yh7"
      },
      "source": [
        "#### 6.  Create a null vector of size 10 but the fifth value which is 1 (★☆☆) \n",
        "(**hint**: array\\[4\\])"
      ]
    },
    {
      "cell_type": "code",
      "execution_count": null,
      "metadata": {
        "id": "GObN7_L8_Yh8",
        "colab": {
          "base_uri": "https://localhost:8080/"
        },
        "outputId": "f99c5731-dcf3-41c0-91c1-5fdd5ed6de3b"
      },
      "outputs": [
        {
          "output_type": "stream",
          "name": "stdout",
          "text": [
            "[0. 0. 0. 0. 0. 0. 0. 0. 0. 0.]\n",
            "[0. 0. 0. 0. 1. 0. 0. 0. 0. 0.]\n"
          ]
        }
      ],
      "source": [
        "import numpy as np\n",
        "x = np.zeros(10)\n",
        "print(x)\n",
        "x[4] = 1\n",
        "print(x)"
      ]
    },
    {
      "cell_type": "markdown",
      "metadata": {
        "id": "UEWAL7ha_Yh8"
      },
      "source": [
        "#### 7.  Create a vector with values ranging from 10 to 49 (★☆☆) \n",
        "(**hint**: np.arange)"
      ]
    },
    {
      "cell_type": "code",
      "execution_count": null,
      "metadata": {
        "id": "gWLDbz1W_Yh8",
        "colab": {
          "base_uri": "https://localhost:8080/"
        },
        "outputId": "13d23141-da26-47fd-ff33-323b69b003bc"
      },
      "outputs": [
        {
          "output_type": "stream",
          "name": "stdout",
          "text": [
            "[10 11 12 13 14 15 16 17 18 19 20 21 22 23 24 25 26 27 28 29 30 31 32 33\n",
            " 34 35 36 37 38 39 40 41 42 43 44 45 46 47 48 49]\n"
          ]
        }
      ],
      "source": [
        "import numpy as np\n",
        "x = np.arange(10,50)\n",
        "print(x)"
      ]
    },
    {
      "cell_type": "markdown",
      "metadata": {
        "id": "gPF5hUJg_Yh8"
      },
      "source": [
        "#### 8.  Reverse a vector (first element becomes last) (★☆☆) \n",
        "(**hint**: array\\[::-1\\])"
      ]
    },
    {
      "cell_type": "code",
      "execution_count": null,
      "metadata": {
        "id": "8Kv32rKX_Yh8",
        "colab": {
          "base_uri": "https://localhost:8080/"
        },
        "outputId": "c7e806db-3125-49fc-a544-6e80c5f8be72"
      },
      "outputs": [
        {
          "output_type": "stream",
          "name": "stdout",
          "text": [
            "[49 48 47 46 45 44 43 42 41 40 39 38 37 36 35 34 33 32 31 30 29 28 27 26\n",
            " 25 24 23 22 21 20 19 18 17 16 15 14 13 12 11 10]\n"
          ]
        }
      ],
      "source": [
        "import numpy as np\n",
        "x = np.arange(10,50)\n",
        "print (x[::-1])"
      ]
    },
    {
      "cell_type": "markdown",
      "metadata": {
        "id": "Hzg8SqHd_Yh9"
      },
      "source": [
        "#### 9.  Create a 3x3 matrix with values ranging from 0 to 8 (★☆☆) \n",
        "(**hint**: reshape)"
      ]
    },
    {
      "cell_type": "code",
      "execution_count": null,
      "metadata": {
        "id": "c0H8-ML5_Yh9",
        "colab": {
          "base_uri": "https://localhost:8080/"
        },
        "outputId": "45caafdf-0d54-47a7-ee0c-7362d01e1d94"
      },
      "outputs": [
        {
          "output_type": "stream",
          "name": "stdout",
          "text": [
            "[[0 1 2]\n",
            " [3 4 5]\n",
            " [6 7 8]]\n"
          ]
        }
      ],
      "source": [
        "import numpy as np\n",
        "x =  np.arange(0,9).reshape(3,3)\n",
        "print(x)"
      ]
    },
    {
      "cell_type": "markdown",
      "metadata": {
        "id": "g54pRHs4_Yh9"
      },
      "source": [
        "#### 10. Find indices of non-zero elements from \\[1,2,0,0,4,0\\] (★☆☆) \n",
        "(**hint**: np.nonzero)"
      ]
    },
    {
      "cell_type": "code",
      "execution_count": null,
      "metadata": {
        "id": "G4bMQcuE_Yh9",
        "colab": {
          "base_uri": "https://localhost:8080/"
        },
        "outputId": "a4dcf79b-e54f-4878-85bd-f384ca0cec94"
      },
      "outputs": [
        {
          "output_type": "stream",
          "name": "stdout",
          "text": [
            "[0, 1, 4]\n"
          ]
        }
      ],
      "source": [
        "from typing import List\n",
        "import numpy as np\n",
        "s = [1,2,0,0,4,0]\n",
        "a = np.array(s)\n",
        "b = list(np.nonzero(a)[0])\n",
        "print(b)"
      ]
    },
    {
      "cell_type": "markdown",
      "metadata": {
        "id": "6LLqkfiU_Yh9"
      },
      "source": [
        "#### 11. Create a 3x3 identity matrix (★☆☆) \n",
        "(**hint**: np.eye)"
      ]
    },
    {
      "cell_type": "code",
      "execution_count": null,
      "metadata": {
        "id": "n-Ieracs_Yh-",
        "colab": {
          "base_uri": "https://localhost:8080/"
        },
        "outputId": "0a757ab4-7e52-42fb-a44e-34affca2579a"
      },
      "outputs": [
        {
          "output_type": "stream",
          "name": "stdout",
          "text": [
            "[[1. 0. 0.]\n",
            " [0. 1. 0.]\n",
            " [0. 0. 1.]]\n"
          ]
        }
      ],
      "source": [
        "import numpy as np\n",
        "a =np.eye(3)\n",
        "print(a)"
      ]
    },
    {
      "cell_type": "markdown",
      "metadata": {
        "id": "Ot8Lz4UN_Yh-"
      },
      "source": [
        "#### 12. Create a 3x3x3 array with random values (★☆☆) \n",
        "(**hint**: np.random.random)"
      ]
    },
    {
      "cell_type": "code",
      "execution_count": null,
      "metadata": {
        "collapsed": true,
        "id": "Pyg115sH_Yh-",
        "colab": {
          "base_uri": "https://localhost:8080/"
        },
        "outputId": "9e3a0dc2-c9d7-44d3-a271-27714556cc97"
      },
      "outputs": [
        {
          "output_type": "stream",
          "name": "stdout",
          "text": [
            "[[[0.10861302 0.18105384 0.97650979]\n",
            "  [0.11536373 0.40821458 0.61767512]\n",
            "  [0.77846487 0.51955818 0.22067561]]\n",
            "\n",
            " [[0.4141029  0.70437933 0.5750914 ]\n",
            "  [0.78606575 0.28423984 0.41828009]\n",
            "  [0.9102792  0.6827557  0.71111367]]\n",
            "\n",
            " [[0.79500718 0.83878208 0.17086721]\n",
            "  [0.07554857 0.02812509 0.04225953]\n",
            "  [0.10377356 0.10271344 0.99196404]]]\n"
          ]
        }
      ],
      "source": [
        "import numpy as np\n",
        "x = np.random.random((3,3,3))\n",
        "print(x)"
      ]
    },
    {
      "cell_type": "markdown",
      "metadata": {
        "id": "cMhaVTUu_Yh-"
      },
      "source": [
        "#### 13. Create a 10x10 array with random values and find the minimum and maximum values (★☆☆) \n",
        "(**hint**: min, max)"
      ]
    },
    {
      "cell_type": "code",
      "execution_count": null,
      "metadata": {
        "id": "fmwlzQcZ_Yh-",
        "colab": {
          "base_uri": "https://localhost:8080/"
        },
        "outputId": "e5c501ca-5f00-4488-c5fb-0540c49696c1"
      },
      "outputs": [
        {
          "output_type": "stream",
          "name": "stdout",
          "text": [
            "[[0.66400794 0.78792203 0.72393711 0.51856392 0.74077321 0.25594307\n",
            "  0.67744885 0.13494836 0.57296757 0.70282546]\n",
            " [0.35714716 0.10730507 0.42995843 0.73328727 0.88576614 0.44839731\n",
            "  0.69981252 0.57420542 0.8011934  0.20403887]\n",
            " [0.02908196 0.72946186 0.87601764 0.45300912 0.40238291 0.94011596\n",
            "  0.46989318 0.51920915 0.664236   0.09277033]\n",
            " [0.1406832  0.53506727 0.01346014 0.64766216 0.03359145 0.70923318\n",
            "  0.47607827 0.84028375 0.61760229 0.84496542]\n",
            " [0.96849677 0.27081087 0.04390854 0.17121186 0.04339948 0.56157372\n",
            "  0.7775979  0.95250141 0.4819048  0.59641125]\n",
            " [0.23442696 0.67811448 0.09064962 0.83726904 0.6633269  0.74328652\n",
            "  0.10917142 0.48396619 0.75633293 0.43648376]\n",
            " [0.12574698 0.41516022 0.44107543 0.74391408 0.94806902 0.11961719\n",
            "  0.82709203 0.34336335 0.57879719 0.94904505]\n",
            " [0.66758412 0.37217141 0.34752898 0.20501513 0.75186902 0.80456933\n",
            "  0.96235133 0.95154    0.29229473 0.66733712]\n",
            " [0.61544204 0.57058069 0.20208375 0.29421748 0.00579383 0.90239384\n",
            "  0.81246448 0.42902416 0.57678785 0.01472085]\n",
            " [0.80092115 0.62420122 0.33722387 0.27205921 0.08653339 0.67823991\n",
            "  0.50543543 0.65897659 0.19719612 0.05626042]]\n",
            "min: 0.005793833143546645 max: 0.9684967680483099\n"
          ]
        }
      ],
      "source": [
        "import numpy as np\n",
        "x = np.random.random((10,10))\n",
        "print(x) \n",
        "xmin, xmax = x.min(), x.max()\n",
        "print('min:', xmin, 'max:', xmax)"
      ]
    },
    {
      "cell_type": "markdown",
      "metadata": {
        "id": "6hzB8cGT_Yh-"
      },
      "source": [
        "#### 14. Create a random vector of size 30 and find the mean value (★☆☆) \n",
        "(**hint**: mean)"
      ]
    },
    {
      "cell_type": "code",
      "execution_count": null,
      "metadata": {
        "id": "UH5wY04z_Yh-",
        "colab": {
          "base_uri": "https://localhost:8080/"
        },
        "outputId": "3342a6c2-3970-4613-ce93-2a1a347c4e75"
      },
      "outputs": [
        {
          "output_type": "stream",
          "name": "stdout",
          "text": [
            "[0.60896359 0.73957774 0.1046323  0.8280564  0.47757434 0.84561531\n",
            " 0.37559045 0.76223063 0.72445152 0.40367202 0.93368039 0.86938495\n",
            " 0.56679724 0.1186469  0.36620744 0.94873741 0.59735212 0.64229125\n",
            " 0.73679039 0.22061618 0.19349454 0.61912434 0.80205993 0.83171304\n",
            " 0.32640442 0.82752242 0.36197681 0.53657777 0.21166592 0.05602482]\n",
            "mean: 0.5545810857210699\n"
          ]
        }
      ],
      "source": [
        "import numpy as np\n",
        "x = np.random.random(30)\n",
        "print(x)\n",
        "y= x.mean()\n",
        "print('mean:',y)"
      ]
    },
    {
      "cell_type": "markdown",
      "metadata": {
        "id": "ID_3cx7I_Yh-"
      },
      "source": [
        "#### 15. Create a 2d array with 1 on the border and 0 inside (★☆☆) \n",
        "(**hint**: array\\[1:-1, 1:-1\\])"
      ]
    },
    {
      "cell_type": "code",
      "execution_count": null,
      "metadata": {
        "id": "nMh4w3OE_Yh-",
        "colab": {
          "base_uri": "https://localhost:8080/"
        },
        "outputId": "8c369c68-1ff2-4882-bfc1-3b4a78b2a418"
      },
      "outputs": [
        {
          "output_type": "stream",
          "name": "stdout",
          "text": [
            "[[1. 1. 1. 1. 1.]\n",
            " [1. 0. 0. 0. 1.]\n",
            " [1. 0. 0. 0. 1.]\n",
            " [1. 0. 0. 0. 1.]\n",
            " [1. 1. 1. 1. 1.]]\n"
          ]
        }
      ],
      "source": [
        "import numpy as np\n",
        "x = np.ones((5,5))\n",
        "x[1:-1,1:-1] = 0\n",
        "print(x)"
      ]
    },
    {
      "cell_type": "markdown",
      "metadata": {
        "id": "jZcktJQ-_Yh_"
      },
      "source": [
        "#### 16. How to add a border (filled with 0's) around an existing array? (★☆☆) \n",
        "(**hint**: np.pad)"
      ]
    },
    {
      "cell_type": "code",
      "execution_count": null,
      "metadata": {
        "id": "_XIPiep9_Yh_",
        "colab": {
          "base_uri": "https://localhost:8080/"
        },
        "outputId": "800c7e23-2dca-4365-c3e9-a856e299cf63"
      },
      "outputs": [
        {
          "output_type": "stream",
          "name": "stdout",
          "text": [
            "[[0. 0. 0. 0. 0. 0. 0.]\n",
            " [0. 1. 1. 1. 1. 1. 0.]\n",
            " [0. 1. 1. 1. 1. 1. 0.]\n",
            " [0. 1. 1. 1. 1. 1. 0.]\n",
            " [0. 1. 1. 1. 1. 1. 0.]\n",
            " [0. 1. 1. 1. 1. 1. 0.]\n",
            " [0. 0. 0. 0. 0. 0. 0.]]\n"
          ]
        }
      ],
      "source": [
        "import numpy as np\n",
        "x = np.ones((5,5))\n",
        "x = np.pad(x, pad_width=1, mode='constant', constant_values=0)\n",
        "print(x)"
      ]
    },
    {
      "cell_type": "markdown",
      "metadata": {
        "id": "AkiI0GxG_Yh_"
      },
      "source": [
        "#### 17. What is the result of the following expression? (★☆☆) \n",
        "(**hint**: NaN = not a number, inf = infinity)"
      ]
    },
    {
      "cell_type": "markdown",
      "metadata": {
        "id": "jcOxPJI5_Yh_"
      },
      "source": [
        "```python\n",
        "0 * np.nan\n",
        "np.nan == np.nan\n",
        "np.inf > np.nan\n",
        "np.nan - np.nan\n",
        "0.3 == 3 * 0.1\n",
        "```"
      ]
    },
    {
      "cell_type": "code",
      "execution_count": null,
      "metadata": {
        "id": "UxzEn0di_Yh_",
        "colab": {
          "base_uri": "https://localhost:8080/"
        },
        "outputId": "afe305bb-1f7a-4b76-e904-25ce5ccba32e"
      },
      "outputs": [
        {
          "output_type": "stream",
          "name": "stdout",
          "text": [
            "nan\n",
            "False\n",
            "False\n",
            "nan\n",
            "False\n"
          ]
        }
      ],
      "source": [
        "import numpy as np\n",
        "v=0 * np.nan\n",
        "w=np.nan == np.nan\n",
        "x= np.inf > np.nan\n",
        "y= np.nan - np.nan\n",
        "z= 0.3 == 3 * 0.1\n",
        "print(v)\n",
        "print(w)\n",
        "print(x)\n",
        "print(y)\n",
        "print(z)"
      ]
    },
    {
      "cell_type": "markdown",
      "metadata": {
        "id": "gbE4-xSE_Yh_"
      },
      "source": [
        "#### 18. Create a 5x5 matrix with values 1,2,3,4 just below the diagonal (★☆☆) \n",
        "(**hint**: np.diag)"
      ]
    },
    {
      "cell_type": "code",
      "execution_count": null,
      "metadata": {
        "id": "Va_gEz-t_Yh_",
        "colab": {
          "base_uri": "https://localhost:8080/"
        },
        "outputId": "dc906746-bc28-4a1a-c739-0e9f2b9e8fc7"
      },
      "outputs": [
        {
          "output_type": "stream",
          "name": "stdout",
          "text": [
            "[[1 0 0 0 0]\n",
            " [0 2 0 0 0]\n",
            " [0 0 3 0 0]\n",
            " [0 0 0 4 0]\n",
            " [0 0 0 0 5]]\n"
          ]
        }
      ],
      "source": [
        "import numpy as np\n",
        "x = np.diag([1, 2, 3, 4, 5])\n",
        "print(x)"
      ]
    },
    {
      "cell_type": "markdown",
      "metadata": {
        "id": "cJnOYR6M_YiA"
      },
      "source": [
        "#### 19. Create a 8x8 matrix and fill it with a checkerboard pattern (★☆☆) \n",
        "(**hint**: array\\[::2\\])"
      ]
    },
    {
      "cell_type": "code",
      "execution_count": null,
      "metadata": {
        "id": "Cl65A0WU_YiA",
        "colab": {
          "base_uri": "https://localhost:8080/"
        },
        "outputId": "3fb7b4ec-11ba-4502-d0fe-d8156f490e5e"
      },
      "outputs": [
        {
          "output_type": "stream",
          "name": "stdout",
          "text": [
            "[[0 1 0 1 0 1 0 1]\n",
            " [1 0 1 0 1 0 1 0]\n",
            " [0 1 0 1 0 1 0 1]\n",
            " [1 0 1 0 1 0 1 0]\n",
            " [0 1 0 1 0 1 0 1]\n",
            " [1 0 1 0 1 0 1 0]\n",
            " [0 1 0 1 0 1 0 1]\n",
            " [1 0 1 0 1 0 1 0]]\n"
          ]
        }
      ],
      "source": [
        "import numpy as np\n",
        "x = np.ones((8,8))\n",
        "x = np.zeros((8,8),dtype=int)\n",
        "x[1::2,::2] = 1\n",
        "x[::2,1::2] = 1\n",
        "print(x)"
      ]
    },
    {
      "cell_type": "markdown",
      "metadata": {
        "id": "rfCvw0SU_YiA"
      },
      "source": [
        "#### 20. Consider a (6,7,8) shape array, what is the index (x,y,z) of the 100th element? \n",
        "(**hint**: np.unravel_index)"
      ]
    },
    {
      "cell_type": "code",
      "execution_count": null,
      "metadata": {
        "id": "XeIKkHhY_YiA",
        "colab": {
          "base_uri": "https://localhost:8080/"
        },
        "outputId": "6953c792-d98c-4959-a4a4-2a35916da576"
      },
      "outputs": [
        {
          "output_type": "stream",
          "name": "stdout",
          "text": [
            "(1, 5, 4)\n"
          ]
        }
      ],
      "source": [
        "import numpy as np\n",
        "print (np.unravel_index(100, (6,7,8)))"
      ]
    },
    {
      "cell_type": "markdown",
      "metadata": {
        "id": "cbZukc_k_YiA"
      },
      "source": [
        "#### 21. Create a checkerboard 8x8 matrix using the tile function (★☆☆) \n",
        "(**hint**: np.tile)"
      ]
    },
    {
      "cell_type": "code",
      "execution_count": null,
      "metadata": {
        "id": "EF6Q4aL3_YiA",
        "colab": {
          "base_uri": "https://localhost:8080/"
        },
        "outputId": "4fb64d93-0d11-4524-8d89-e52c3bdeb09f"
      },
      "outputs": [
        {
          "output_type": "stream",
          "name": "stdout",
          "text": [
            "[[0 1 0 1 0 1 0 1]\n",
            " [1 0 1 0 1 0 1 0]\n",
            " [0 1 0 1 0 1 0 1]\n",
            " [1 0 1 0 1 0 1 0]\n",
            " [0 1 0 1 0 1 0 1]\n",
            " [1 0 1 0 1 0 1 0]\n",
            " [0 1 0 1 0 1 0 1]\n",
            " [1 0 1 0 1 0 1 0]]\n"
          ]
        }
      ],
      "source": [
        "array= np.array([[0,1], [1,0]])\n",
        "Z = np.tile(array,(4,4))\n",
        "print (Z)"
      ]
    },
    {
      "cell_type": "markdown",
      "metadata": {
        "id": "mTRKJLhx_YiA"
      },
      "source": [
        "#### 22. Normalize a 5x5 random matrix (★☆☆) \n",
        "(**hint**: (x - min) / (max - min))"
      ]
    },
    {
      "cell_type": "code",
      "execution_count": null,
      "metadata": {
        "id": "P1dHGdlK_YiA",
        "colab": {
          "base_uri": "https://localhost:8080/"
        },
        "outputId": "af48d308-b24d-4d24-c8dc-60ae62e22c60"
      },
      "outputs": [
        {
          "output_type": "stream",
          "name": "stdout",
          "text": [
            "[[3.20573797e-01 5.51512018e-01 2.82357194e-01 1.00000000e+00\n",
            "  0.00000000e+00]\n",
            " [8.70874895e-04 3.34480942e-01 4.56262470e-01 4.39696424e-01\n",
            "  6.41252804e-01]\n",
            " [8.54408248e-01 9.37820464e-02 9.08027972e-01 6.96522583e-01\n",
            "  1.28266570e-01]\n",
            " [1.39997679e-01 7.91273191e-01 3.04544039e-01 8.95465281e-01\n",
            "  9.05966336e-01]\n",
            " [5.10808627e-01 7.80970513e-02 4.30775740e-01 3.97897942e-01\n",
            "  7.51228277e-01]]\n"
          ]
        }
      ],
      "source": [
        "Z = np.random.random((5,5))\n",
        "Zmax, Zmin = Z.max(), Z.min()\n",
        "Z= (Z-Zmin)/(Zmax-Zmin)\n",
        "print (Z)"
      ]
    },
    {
      "cell_type": "markdown",
      "metadata": {
        "id": "pizl_7wA_YiB"
      },
      "source": [
        "#### 23. Create a custom dtype that describes a color as four unsigned bytes (RGBA) (★☆☆) \n",
        "(**hint**: np.dtype)"
      ]
    },
    {
      "cell_type": "code",
      "execution_count": null,
      "metadata": {
        "collapsed": true,
        "id": "WMcXXd4A_YiB",
        "colab": {
          "base_uri": "https://localhost:8080/"
        },
        "outputId": "0bb0db0c-112b-49f4-d7ab-e48df2917566"
      },
      "outputs": [
        {
          "output_type": "stream",
          "name": "stderr",
          "text": [
            "/usr/local/lib/python3.7/dist-packages/ipykernel_launcher.py:5: FutureWarning: Passing (type, 1) or '1type' as a synonym of type is deprecated; in a future version of numpy, it will be understood as (type, (1,)) / '(1,)type'.\n",
            "  \"\"\"\n"
          ]
        }
      ],
      "source": [
        "import numpy as np\n",
        "x = np.dtype([(\"r\", np.ubyte, 1),\n",
        "                  (\"g\", np.ubyte, 1),\n",
        "                  (\"b\", np.ubyte, 1),\n",
        "                  (\"a\", np.ubyte, 1)])"
      ]
    },
    {
      "cell_type": "markdown",
      "metadata": {
        "id": "RRUvePqP_YiB"
      },
      "source": [
        "#### 24. Multiply a 5x3 matrix by a 3x2 matrix (real matrix product) (★☆☆) \n",
        "(**hint**: np.dot | @)"
      ]
    },
    {
      "cell_type": "code",
      "execution_count": 3,
      "metadata": {
        "id": "TVsG020v_YiB",
        "colab": {
          "base_uri": "https://localhost:8080/"
        },
        "outputId": "9f6c8409-59d8-4926-f64c-36c60f52a44e"
      },
      "outputs": [
        {
          "output_type": "stream",
          "name": "stdout",
          "text": [
            "5x3 matrix\n",
            "[[0.90155827 0.92326821 0.05290035]\n",
            " [0.59636554 0.65884367 0.83536446]\n",
            " [0.4865499  0.88010502 0.00894981]\n",
            " [0.66462897 0.83456108 0.03128892]\n",
            " [0.82075601 0.34742308 0.39296293]]\n",
            "3x2 matrix\n",
            "[[0.8446785  0.0854291 ]\n",
            " [0.63773681 0.99802564]\n",
            " [0.08335492 0.88176599]]\n",
            "real matrix product\n",
            "[[1.35473852 1.04511039]\n",
            " [0.99353775 1.44508582]\n",
            " [0.97299962 0.92782453]\n",
            " [1.09623621 0.91728151]\n",
            " [0.94759484 0.76335493]]\n"
          ]
        }
      ],
      "source": [
        "import numpy as np\n",
        "print(\"5x3 matrix\")\n",
        "x = np.random.random((5,3))\n",
        "print(x)\n",
        "print(\"3x2 matrix\")\n",
        "y = np.random.random((3,2))\n",
        "print(y)\n",
        "print(\"real matrix product\")\n",
        "z = np.dot(x, y)\n",
        "print(z)"
      ]
    },
    {
      "cell_type": "markdown",
      "metadata": {
        "id": "2fHky-zw_YiB"
      },
      "source": [
        "#### 25. Given a 1D array, negate all elements which are between 3 and 8, in place. (★☆☆) \n",
        "(**hint**: >, <=)"
      ]
    },
    {
      "cell_type": "code",
      "execution_count": 26,
      "metadata": {
        "id": "6SArvgCL_YiB",
        "colab": {
          "base_uri": "https://localhost:8080/"
        },
        "outputId": "1b5f593b-b617-4f14-bcff-fca9eb0c512b"
      },
      "outputs": [
        {
          "output_type": "stream",
          "name": "stdout",
          "text": [
            "[ 0  1  2  3 -4 -5 -6 -7  8  9 10]\n"
          ]
        }
      ],
      "source": [
        "import numpy as np\n",
        "Z = np.arange(11)\n",
        "Z[(3 < Z) & (Z < 8)] *= -1\n",
        "print(Z)"
      ]
    },
    {
      "cell_type": "markdown",
      "metadata": {
        "id": "H_lr_58u_YiB"
      },
      "source": [
        "#### 26. What is the output of the following script? (★☆☆) \n",
        "(**hint**: np.sum)"
      ]
    },
    {
      "cell_type": "markdown",
      "metadata": {
        "id": "fkj6AMCY_YiB"
      },
      "source": [
        "```python\n",
        "# Author: Jake VanderPlas\n",
        "\n",
        "print(sum(range(5),-1))\n",
        "from numpy import *\n",
        "print(sum(range(5),-1))\n",
        "```"
      ]
    },
    {
      "cell_type": "code",
      "source": [
        "print(sum(range(5),-1))\n",
        "from numpy import *\n",
        "print(sum(range(5),-1))\n"
      ],
      "metadata": {
        "colab": {
          "base_uri": "https://localhost:8080/"
        },
        "outputId": "d9295d23-ba9c-49da-a70b-221f326cd7b5",
        "id": "XD_loHY7tgR6"
      },
      "execution_count": 25,
      "outputs": [
        {
          "output_type": "stream",
          "name": "stdout",
          "text": [
            "10\n",
            "10\n"
          ]
        }
      ]
    },
    {
      "cell_type": "markdown",
      "metadata": {
        "id": "wzsuUFtD_YiC"
      },
      "source": [
        "#### 27. Consider an integer vector Z, which of these expressions are legal? (★☆☆)"
      ]
    },
    {
      "cell_type": "markdown",
      "metadata": {
        "id": "JPG1dYEG_YiC"
      },
      "source": [
        "```python\n",
        "Z**Z\n",
        "2 << Z >> 2\n",
        "Z <- Z\n",
        "1j*Z\n",
        "Z/1/1\n",
        "Z<Z>Z\n",
        "```"
      ]
    },
    {
      "cell_type": "code",
      "execution_count": 16,
      "metadata": {
        "id": "ps9JdnzL_YiC",
        "colab": {
          "base_uri": "https://localhost:8080/"
        },
        "outputId": "cae6da79-d938-42b0-ba5f-f18879fe3ed8"
      },
      "outputs": [
        {
          "output_type": "execute_result",
          "data": {
            "text/plain": [
              "array([  1,   1,   4,  27, 256])"
            ]
          },
          "metadata": {},
          "execution_count": 16
        }
      ],
      "source": [
        "Z = np.arange(5)\n",
        "Z ** Z  # legal"
      ]
    },
    {
      "cell_type": "code",
      "source": [
        "Z = np.arange(5)\n",
        "2 << Z >> 2  # false"
      ],
      "metadata": {
        "colab": {
          "base_uri": "https://localhost:8080/"
        },
        "id": "uvuvYLJsxW2Q",
        "outputId": "377ca022-4244-4ef6-c56b-8ece0e663eb3"
      },
      "execution_count": 17,
      "outputs": [
        {
          "output_type": "execute_result",
          "data": {
            "text/plain": [
              "array([0, 1, 2, 4, 8])"
            ]
          },
          "metadata": {},
          "execution_count": 17
        }
      ]
    },
    {
      "cell_type": "code",
      "source": [
        "Z = np.arange(5)\n",
        "Z <- Z   # legal"
      ],
      "metadata": {
        "colab": {
          "base_uri": "https://localhost:8080/"
        },
        "id": "o-4GisLbxaPM",
        "outputId": "77ccf535-bae9-43e9-eb37-0cd366a97817"
      },
      "execution_count": 18,
      "outputs": [
        {
          "output_type": "execute_result",
          "data": {
            "text/plain": [
              "array([False, False, False, False, False])"
            ]
          },
          "metadata": {},
          "execution_count": 18
        }
      ]
    },
    {
      "cell_type": "code",
      "source": [
        "Z = np.arange(5)\n",
        "1j*Z   # legal"
      ],
      "metadata": {
        "colab": {
          "base_uri": "https://localhost:8080/"
        },
        "id": "Zse-XURYxhJK",
        "outputId": "037bf9d9-e725-4b2f-e4e3-67d9bc0cc16d"
      },
      "execution_count": 19,
      "outputs": [
        {
          "output_type": "execute_result",
          "data": {
            "text/plain": [
              "array([0.+0.j, 0.+1.j, 0.+2.j, 0.+3.j, 0.+4.j])"
            ]
          },
          "metadata": {},
          "execution_count": 19
        }
      ]
    },
    {
      "cell_type": "code",
      "source": [
        "Z = np.arange(5)\n",
        "Z/1/1   # legal"
      ],
      "metadata": {
        "colab": {
          "base_uri": "https://localhost:8080/"
        },
        "id": "ltrckAbJxiir",
        "outputId": "57c3841f-63a0-41b6-88dd-1db3bdb17f21"
      },
      "execution_count": 20,
      "outputs": [
        {
          "output_type": "execute_result",
          "data": {
            "text/plain": [
              "array([0., 1., 2., 3., 4.])"
            ]
          },
          "metadata": {},
          "execution_count": 20
        }
      ]
    },
    {
      "cell_type": "code",
      "source": [
        "Z = np.arange(5)\n",
        "Z<Z>Z    # false"
      ],
      "metadata": {
        "colab": {
          "base_uri": "https://localhost:8080/",
          "height": 183
        },
        "id": "9PKqfvXTxmaD",
        "outputId": "86c4828c-a535-4c62-cd9e-458c4081c81c"
      },
      "execution_count": 21,
      "outputs": [
        {
          "output_type": "error",
          "ename": "ValueError",
          "evalue": "ignored",
          "traceback": [
            "\u001b[0;31m---------------------------------------------------------------------------\u001b[0m",
            "\u001b[0;31mValueError\u001b[0m                                Traceback (most recent call last)",
            "\u001b[0;32m<ipython-input-21-b1e990eded03>\u001b[0m in \u001b[0;36m<module>\u001b[0;34m\u001b[0m\n\u001b[1;32m      1\u001b[0m \u001b[0mZ\u001b[0m \u001b[0;34m=\u001b[0m \u001b[0mnp\u001b[0m\u001b[0;34m.\u001b[0m\u001b[0marange\u001b[0m\u001b[0;34m(\u001b[0m\u001b[0;36m5\u001b[0m\u001b[0;34m)\u001b[0m\u001b[0;34m\u001b[0m\u001b[0;34m\u001b[0m\u001b[0m\n\u001b[0;32m----> 2\u001b[0;31m \u001b[0mZ\u001b[0m\u001b[0;34m<\u001b[0m\u001b[0mZ\u001b[0m\u001b[0;34m>\u001b[0m\u001b[0mZ\u001b[0m    \u001b[0;31m# false\u001b[0m\u001b[0;34m\u001b[0m\u001b[0;34m\u001b[0m\u001b[0m\n\u001b[0m",
            "\u001b[0;31mValueError\u001b[0m: The truth value of an array with more than one element is ambiguous. Use a.any() or a.all()"
          ]
        }
      ]
    },
    {
      "cell_type": "markdown",
      "metadata": {
        "id": "M7uiNJlw_YiC"
      },
      "source": [
        "#### 28. What are the result of the following expressions?"
      ]
    },
    {
      "cell_type": "markdown",
      "metadata": {
        "id": "fcJ0DT_s_YiC"
      },
      "source": [
        "```python\n",
        "np.array(0) / np.array(0)\n",
        "np.array(0) // np.array(0)\n",
        "np.array([np.nan]).astype(int).astype(float)\n",
        "```"
      ]
    },
    {
      "cell_type": "code",
      "execution_count": 23,
      "metadata": {
        "id": "h-FeojX6_YiC",
        "colab": {
          "base_uri": "https://localhost:8080/"
        },
        "outputId": "255431d6-be44-4323-d9ff-55fab4a09901"
      },
      "outputs": [
        {
          "output_type": "stream",
          "name": "stdout",
          "text": [
            "nan\n",
            "0\n",
            "[-9.22337204e+18]\n"
          ]
        },
        {
          "output_type": "stream",
          "name": "stderr",
          "text": [
            "/usr/local/lib/python3.7/dist-packages/ipykernel_launcher.py:2: RuntimeWarning: invalid value encountered in true_divide\n",
            "  \n",
            "/usr/local/lib/python3.7/dist-packages/ipykernel_launcher.py:3: RuntimeWarning: divide by zero encountered in floor_divide\n",
            "  This is separate from the ipykernel package so we can avoid doing imports until\n"
          ]
        }
      ],
      "source": [
        "import numpy as np\n",
        "print(np.array(0) / np.array(0))\n",
        "print(np.array(0) // np.array(0))\n",
        "print(np.array([np.nan]).astype(int).astype(float))"
      ]
    },
    {
      "cell_type": "markdown",
      "metadata": {
        "id": "0aEa05HW_YiC"
      },
      "source": [
        "#### 29. How to round away from zero a float array ? (★☆☆) \n",
        "(**hint**: np.uniform, np.copysign, np.ceil, np.abs)"
      ]
    },
    {
      "cell_type": "code",
      "execution_count": 27,
      "metadata": {
        "id": "Xrf7P-Fl_YiC",
        "colab": {
          "base_uri": "https://localhost:8080/"
        },
        "outputId": "fa67839c-2a81-43c8-df5a-287c1bcc3ac6"
      },
      "outputs": [
        {
          "output_type": "stream",
          "name": "stdout",
          "text": [
            "[ -8. -10.  -2.   8.   4. -10.  -6.   6.  -2.   4.]\n"
          ]
        }
      ],
      "source": [
        "Z = np.random.uniform(-10,+10,10)\n",
        "print (np.copysign(np.ceil(np.abs(Z)), Z))"
      ]
    },
    {
      "cell_type": "markdown",
      "metadata": {
        "id": "onLXPMQM_YiC"
      },
      "source": [
        "#### 30. How to find common values between two arrays? (★☆☆) \n",
        "(**hint**: np.intersect1d)"
      ]
    },
    {
      "cell_type": "code",
      "execution_count": 29,
      "metadata": {
        "id": "Fg681jzt_YiC",
        "colab": {
          "base_uri": "https://localhost:8080/"
        },
        "outputId": "eb53a839-5146-46a9-cc6e-e27693ebd209"
      },
      "outputs": [
        {
          "output_type": "stream",
          "name": "stdout",
          "text": [
            "[1 2 3 4 8 9]\n"
          ]
        }
      ],
      "source": [
        "Z1 = np.random.randint(0,10,10)\n",
        "Z2 = np.random.randint(0,10,10)\n",
        "print(np.intersect1d(Z1,Z2))"
      ]
    },
    {
      "cell_type": "markdown",
      "metadata": {
        "id": "wWMeSm0__YiC"
      },
      "source": [
        "#### 31. How to ignore all numpy warnings (not recommended)? (★☆☆) \n",
        "(**hint**: np.seterr, np.errstate)"
      ]
    },
    {
      "cell_type": "code",
      "execution_count": 31,
      "metadata": {
        "id": "IgllKihw_YiD"
      },
      "outputs": [],
      "source": [
        "#mode1\n",
        "defaults = np.seterr(all=\"ignore\")\n",
        "Z = np.ones(1) / 0\n",
        "#mode 2\n",
        "_ = np.seterr(**defaults)"
      ]
    },
    {
      "cell_type": "markdown",
      "metadata": {
        "id": "L055J_wm_YiD"
      },
      "source": [
        "#### 32. Is the following expressions true? (★☆☆) \n",
        "(**hint**: imaginary number)"
      ]
    },
    {
      "cell_type": "markdown",
      "metadata": {
        "id": "zmhg5Qn1_YiD"
      },
      "source": [
        "```python\n",
        "np.sqrt(-1) == np.emath.sqrt(-1)\n",
        "```"
      ]
    },
    {
      "cell_type": "code",
      "execution_count": 33,
      "metadata": {
        "id": "0KqFMfAj_YiD",
        "colab": {
          "base_uri": "https://localhost:8080/"
        },
        "outputId": "a2190012-f9f0-4cbe-fa75-add5d6836b83"
      },
      "outputs": [
        {
          "output_type": "stream",
          "name": "stderr",
          "text": [
            "/usr/local/lib/python3.7/dist-packages/ipykernel_launcher.py:2: RuntimeWarning: invalid value encountered in sqrt\n",
            "  \n"
          ]
        },
        {
          "output_type": "execute_result",
          "data": {
            "text/plain": [
              "False"
            ]
          },
          "metadata": {},
          "execution_count": 33
        }
      ],
      "source": [
        "import numpy as np\n",
        "np.sqrt(-1) == np.emath.sqrt(-1)  "
      ]
    },
    {
      "cell_type": "markdown",
      "metadata": {
        "id": "Tetxl2Qu_YiD"
      },
      "source": [
        "#### 33. How to get the dates of yesterday, today and tomorrow? (★☆☆) \n",
        "(**hint**: np.datetime64, np.timedelta64)"
      ]
    },
    {
      "cell_type": "code",
      "execution_count": 35,
      "metadata": {
        "collapsed": true,
        "id": "-j9bdeGw_YiD",
        "colab": {
          "base_uri": "https://localhost:8080/"
        },
        "outputId": "83836373-93aa-45fc-cbda-49902d5c0661"
      },
      "outputs": [
        {
          "output_type": "stream",
          "name": "stdout",
          "text": [
            "Yesterday is 2022-08-15\n",
            "Today is 2022-08-16\n",
            "Tomorrow is 2022-08-17\n"
          ]
        }
      ],
      "source": [
        "yesterday = np.datetime64('today', 'D') - np.timedelta64(1, 'D')\n",
        "today     = np.datetime64('today', 'D')\n",
        "tomorrow  = np.datetime64('today', 'D') + np.timedelta64(1, 'D')\n",
        "print (\"Yesterday is \" + str(yesterday))\n",
        "print (\"Today is \" + str(today))\n",
        "print (\"Tomorrow is \"+ str(tomorrow))"
      ]
    },
    {
      "cell_type": "markdown",
      "metadata": {
        "id": "WBTcvvEZ_YiD"
      },
      "source": [
        "#### 34. How to get all the dates corresponding to the month of July 2016? (★★☆) \n",
        "(**hint**: np.arange(dtype=datetime64\\['D'\\]))"
      ]
    },
    {
      "cell_type": "code",
      "execution_count": 36,
      "metadata": {
        "id": "MU_M_j7F_YiD",
        "colab": {
          "base_uri": "https://localhost:8080/"
        },
        "outputId": "67daa823-f9af-4feb-d6c9-2c72668c1193"
      },
      "outputs": [
        {
          "output_type": "stream",
          "name": "stdout",
          "text": [
            "['2016-07-01' '2016-07-02' '2016-07-03' '2016-07-04' '2016-07-05'\n",
            " '2016-07-06' '2016-07-07' '2016-07-08' '2016-07-09' '2016-07-10'\n",
            " '2016-07-11' '2016-07-12' '2016-07-13' '2016-07-14' '2016-07-15'\n",
            " '2016-07-16' '2016-07-17' '2016-07-18' '2016-07-19' '2016-07-20'\n",
            " '2016-07-21' '2016-07-22' '2016-07-23' '2016-07-24' '2016-07-25'\n",
            " '2016-07-26' '2016-07-27' '2016-07-28' '2016-07-29' '2016-07-30'\n",
            " '2016-07-31']\n"
          ]
        }
      ],
      "source": [
        "Z = np.arange('2016-07', '2016-08', dtype='datetime64[D]')\n",
        "print(Z)"
      ]
    },
    {
      "cell_type": "markdown",
      "metadata": {
        "id": "F60EmuA__YiD"
      },
      "source": [
        "#### 35. How to compute ((A+B)\\*(-A/2)) in place (without copy)? (★★☆) \n",
        "(**hint**: np.add(out=), np.negative(out=), np.multiply(out=), np.divide(out=))"
      ]
    },
    {
      "cell_type": "code",
      "execution_count": 37,
      "metadata": {
        "id": "aO1KKaAs_YiD",
        "colab": {
          "base_uri": "https://localhost:8080/"
        },
        "outputId": "43009626-2e37-410a-fc88-9c3488042103"
      },
      "outputs": [
        {
          "output_type": "execute_result",
          "data": {
            "text/plain": [
              "array([-1.5, -1.5, -1.5])"
            ]
          },
          "metadata": {},
          "execution_count": 37
        }
      ],
      "source": [
        "A = np.ones(3)*1\n",
        "B = np.ones(3)*2\n",
        "C = np.ones(3)*3\n",
        "np.add(A,B,out=B)\n",
        "np.divide(A,2,out=A)\n",
        "np.negative(A,out=A)\n",
        "np.multiply(A,B,out=A)"
      ]
    },
    {
      "cell_type": "markdown",
      "metadata": {
        "id": "bDtKv_SL_YiE"
      },
      "source": [
        "#### 36. Extract the integer part of a random array using 5 different methods (★★☆) \n",
        "(**hint**: %, np.floor, np.ceil, astype, np.trunc)"
      ]
    },
    {
      "cell_type": "code",
      "execution_count": 38,
      "metadata": {
        "id": "_uBd6RFF_YiE",
        "colab": {
          "base_uri": "https://localhost:8080/"
        },
        "outputId": "c41d9635-cfe1-4626-f2b8-abbcafd894c0"
      },
      "outputs": [
        {
          "output_type": "stream",
          "name": "stdout",
          "text": [
            "[2. 8. 9. 0. 5. 2. 2. 6. 3. 6.]\n",
            "[2. 8. 9. 0. 5. 2. 2. 6. 3. 6.]\n",
            "[2. 8. 9. 0. 5. 2. 2. 6. 3. 6.]\n",
            "[2 8 9 0 5 2 2 6 3 6]\n",
            "[2. 8. 9. 0. 5. 2. 2. 6. 3. 6.]\n"
          ]
        }
      ],
      "source": [
        "Z = np.random.uniform(0,10,10)\n",
        "\n",
        "print (Z - Z%1)\n",
        "print (np.floor(Z))\n",
        "print (np.ceil(Z)-1)\n",
        "print (Z.astype(int))\n",
        "print (np.trunc(Z))"
      ]
    },
    {
      "cell_type": "markdown",
      "metadata": {
        "id": "j2xE6cRf_YiE"
      },
      "source": [
        "#### 37. Create a 5x5 matrix with row values ranging from 0 to 4 (★★☆) \n",
        "(**hint**: np.arange)"
      ]
    },
    {
      "cell_type": "code",
      "execution_count": 39,
      "metadata": {
        "id": "jf9OXj-m_YiE",
        "colab": {
          "base_uri": "https://localhost:8080/"
        },
        "outputId": "2d599e67-de31-429b-ca34-c71474f2f2f1"
      },
      "outputs": [
        {
          "output_type": "stream",
          "name": "stdout",
          "text": [
            "[[0. 1. 2. 3. 4.]\n",
            " [0. 1. 2. 3. 4.]\n",
            " [0. 1. 2. 3. 4.]\n",
            " [0. 1. 2. 3. 4.]\n",
            " [0. 1. 2. 3. 4.]]\n"
          ]
        }
      ],
      "source": [
        "Z = np.zeros((5,5))\n",
        "Z += np.arange(5)\n",
        "print (Z)"
      ]
    },
    {
      "cell_type": "markdown",
      "metadata": {
        "id": "GbZ68SiU_YiE"
      },
      "source": [
        "#### 38. Consider a generator function that generates 10 integers and use it to build an array (★☆☆) \n",
        "(**hint**: np.fromiter)"
      ]
    },
    {
      "cell_type": "code",
      "execution_count": 40,
      "metadata": {
        "id": "x0A4W2Nt_YiE",
        "colab": {
          "base_uri": "https://localhost:8080/"
        },
        "outputId": "46021ce3-596b-4909-92fb-55c1eabfffa5"
      },
      "outputs": [
        {
          "output_type": "stream",
          "name": "stdout",
          "text": [
            "[0. 1. 2. 3. 4. 5. 6. 7. 8. 9.]\n"
          ]
        }
      ],
      "source": [
        "def generate():\n",
        "    for x in range(10):\n",
        "\n",
        "        yield x\n",
        "Z = np.fromiter(generate(),dtype=float,count=-1)\n",
        "print (Z)"
      ]
    },
    {
      "cell_type": "markdown",
      "metadata": {
        "id": "YqtighpK_YiE"
      },
      "source": [
        "#### 39. Create a vector of size 10 with values ranging from 0 to 1, both excluded (★★☆) \n",
        "(**hint**: np.linspace)"
      ]
    },
    {
      "cell_type": "code",
      "execution_count": 41,
      "metadata": {
        "id": "B6jMQv1p_YiE",
        "colab": {
          "base_uri": "https://localhost:8080/"
        },
        "outputId": "b16b1728-f5f0-4f62-8981-f94f5eaf8442"
      },
      "outputs": [
        {
          "output_type": "stream",
          "name": "stdout",
          "text": [
            "[0.09090909 0.18181818 0.27272727 0.36363636 0.45454545 0.54545455\n",
            " 0.63636364 0.72727273 0.81818182 0.90909091]\n"
          ]
        }
      ],
      "source": [
        "Z = np.linspace(0,1,11,endpoint=False)[1:]\n",
        "print (Z)"
      ]
    },
    {
      "cell_type": "markdown",
      "metadata": {
        "id": "0uwdWKPD_YiE"
      },
      "source": [
        "#### 40. Create a random vector of size 10 and sort it (★★☆) \n",
        "(**hint**: sort)"
      ]
    },
    {
      "cell_type": "code",
      "execution_count": 42,
      "metadata": {
        "id": "R0JyX11U_YiE",
        "colab": {
          "base_uri": "https://localhost:8080/"
        },
        "outputId": "a9987802-09c6-4133-b463-d1cee27a91f3"
      },
      "outputs": [
        {
          "output_type": "stream",
          "name": "stdout",
          "text": [
            "[0.06769091 0.13536769 0.23568473 0.42142663 0.57294117 0.59978843\n",
            " 0.67175517 0.89981701 0.92173489 0.9860525 ]\n"
          ]
        }
      ],
      "source": [
        "Z = np.random.random(10)\n",
        "Z.sort()\n",
        "print (Z)"
      ]
    },
    {
      "cell_type": "markdown",
      "metadata": {
        "id": "kfcWDXGO_YiF"
      },
      "source": [
        "#### 41. How to sum a small array faster than np.sum? (★★☆) \n",
        "(**hint**: np.add.reduce)"
      ]
    },
    {
      "cell_type": "code",
      "execution_count": 45,
      "metadata": {
        "id": "cOn_rkL5_YiF",
        "colab": {
          "base_uri": "https://localhost:8080/"
        },
        "outputId": "5f9697a3-fa86-4bf0-8f73-2a928204374c"
      },
      "outputs": [
        {
          "output_type": "execute_result",
          "data": {
            "text/plain": [
              "45"
            ]
          },
          "metadata": {},
          "execution_count": 45
        }
      ],
      "source": [
        "Z = np.arange(10)\n",
        "\n",
        "np.add.reduce(Z)"
      ]
    },
    {
      "cell_type": "markdown",
      "metadata": {
        "id": "f2xjCAUa_YiF"
      },
      "source": [
        "#### 42. Consider two random array A and B, check if they are equal (★★☆) \n",
        "(**hint**: np.allclose, np.array\\_equal)"
      ]
    },
    {
      "cell_type": "code",
      "execution_count": 47,
      "metadata": {
        "id": "1gQXvGU3_YiF",
        "colab": {
          "base_uri": "https://localhost:8080/"
        },
        "outputId": "ad14c175-265d-44ea-91ec-753e9fa27b4b"
      },
      "outputs": [
        {
          "output_type": "stream",
          "name": "stdout",
          "text": [
            "False\n"
          ]
        }
      ],
      "source": [
        "A = np.random.randint(0,2,5)\n",
        "B = np.random.randint(0,2,5)\n",
        "equal = np.allclose(A,B)\n",
        "print(equal)"
      ]
    },
    {
      "cell_type": "markdown",
      "metadata": {
        "id": "9IX0fwPp_YiF"
      },
      "source": [
        "#### 43. Make an array immutable (read-only) (★★☆) \n",
        "(**hint**: flags.writeable)"
      ]
    },
    {
      "cell_type": "code",
      "execution_count": 53,
      "metadata": {
        "id": "3A0vPmr0_YiF",
        "colab": {
          "base_uri": "https://localhost:8080/",
          "height": 235
        },
        "outputId": "94018113-ef6a-496c-a57f-737f88badbc9"
      },
      "outputs": [
        {
          "output_type": "stream",
          "name": "stdout",
          "text": [
            "Test the array is read-only or not:\n",
            "Try to change the value of the first element:\n"
          ]
        },
        {
          "output_type": "error",
          "ename": "ValueError",
          "evalue": "ignored",
          "traceback": [
            "\u001b[0;31m---------------------------------------------------------------------------\u001b[0m",
            "\u001b[0;31mValueError\u001b[0m                                Traceback (most recent call last)",
            "\u001b[0;32m<ipython-input-53-037e6bfe7392>\u001b[0m in \u001b[0;36m<module>\u001b[0;34m\u001b[0m\n\u001b[1;32m      4\u001b[0m \u001b[0mprint\u001b[0m\u001b[0;34m(\u001b[0m\u001b[0;34m\"Test the array is read-only or not:\"\u001b[0m\u001b[0;34m)\u001b[0m\u001b[0;34m\u001b[0m\u001b[0;34m\u001b[0m\u001b[0m\n\u001b[1;32m      5\u001b[0m \u001b[0mprint\u001b[0m\u001b[0;34m(\u001b[0m\u001b[0;34m\"Try to change the value of the first element:\"\u001b[0m\u001b[0;34m)\u001b[0m\u001b[0;34m\u001b[0m\u001b[0;34m\u001b[0m\u001b[0m\n\u001b[0;32m----> 6\u001b[0;31m \u001b[0mx\u001b[0m\u001b[0;34m[\u001b[0m\u001b[0;36m0\u001b[0m\u001b[0;34m]\u001b[0m \u001b[0;34m=\u001b[0m \u001b[0;36m1\u001b[0m\u001b[0;34m\u001b[0m\u001b[0;34m\u001b[0m\u001b[0m\n\u001b[0m",
            "\u001b[0;31mValueError\u001b[0m: assignment destination is read-only"
          ]
        }
      ],
      "source": [
        "import numpy as np\n",
        "x = np.zeros(10)\n",
        "x.flags.writeable = False\n",
        "print(\"Test the array is read-only or not:\")\n",
        "print(\"Try to change the value of the first element:\")\n",
        "x[0] = 1"
      ]
    },
    {
      "cell_type": "markdown",
      "metadata": {
        "id": "LqbuFeKV_YiF"
      },
      "source": [
        "#### 44. Consider a random 10x2 matrix representing cartesian coordinates, convert them to polar coordinates (★★☆) \n",
        "(**hint**: np.sqrt, np.arctan2)"
      ]
    },
    {
      "cell_type": "code",
      "execution_count": 54,
      "metadata": {
        "id": "GuKOjK1B_YiF",
        "colab": {
          "base_uri": "https://localhost:8080/"
        },
        "outputId": "a03f6836-11ea-4087-efb6-c30cffdfbd74"
      },
      "outputs": [
        {
          "output_type": "stream",
          "name": "stdout",
          "text": [
            "[1.13031932 1.26950623 0.21487857 0.31049    0.41356077 0.72188112\n",
            " 1.02188784 1.24395761 0.70415401 0.87825777]\n",
            "[0.96601018 0.86291376 0.9042287  1.37944415 1.56210768 0.77181637\n",
            " 0.53833073 0.6694688  0.2390519  0.28270181]\n"
          ]
        }
      ],
      "source": [
        "Z = np.random.random((10,2))\n",
        "X,Y = Z[:,0], Z[:,1]\n",
        "R = np.sqrt(X**2+Y**2)\n",
        "T = np.arctan2(Y,X)\n",
        "print (R)\n",
        "print (T)"
      ]
    },
    {
      "cell_type": "markdown",
      "metadata": {
        "id": "kEMYQdab_YiF"
      },
      "source": [
        "#### 45. Create random vector of size 10 and replace the maximum value by 0 (★★☆) \n",
        "(**hint**: argmax)"
      ]
    },
    {
      "cell_type": "code",
      "execution_count": 56,
      "metadata": {
        "id": "Mr3N4z3H_YiG",
        "colab": {
          "base_uri": "https://localhost:8080/"
        },
        "outputId": "e3749b1d-6302-4148-d266-676094edd942"
      },
      "outputs": [
        {
          "output_type": "stream",
          "name": "stdout",
          "text": [
            "[0.2198452  0.46938786 0.33670011 0.84700105 0.03935208 0.08598083\n",
            " 0.62956098 0.1957522  0.         0.0553245 ]\n"
          ]
        }
      ],
      "source": [
        "Z = np.random.random(10)\n",
        "Z[Z.argmax()] = 0\n",
        "print (Z)"
      ]
    },
    {
      "cell_type": "markdown",
      "metadata": {
        "id": "AJDxQkyJ_YiG"
      },
      "source": [
        "#### 46. Create a structured array with `x` and `y` coordinates covering the \\[0,1\\]x\\[0,1\\] area (★★☆) \n",
        "(**hint**: np.meshgrid)"
      ]
    },
    {
      "cell_type": "code",
      "execution_count": 58,
      "metadata": {
        "id": "hhl-vSXD_YiG",
        "colab": {
          "base_uri": "https://localhost:8080/"
        },
        "outputId": "f6e10222-9a08-4fae-8038-f2e7a869cb17"
      },
      "outputs": [
        {
          "output_type": "stream",
          "name": "stdout",
          "text": [
            "[[(0.  , 0.  ) (0.25, 0.  ) (0.5 , 0.  ) (0.75, 0.  ) (1.  , 0.  )]\n",
            " [(0.  , 0.25) (0.25, 0.25) (0.5 , 0.25) (0.75, 0.25) (1.  , 0.25)]\n",
            " [(0.  , 0.5 ) (0.25, 0.5 ) (0.5 , 0.5 ) (0.75, 0.5 ) (1.  , 0.5 )]\n",
            " [(0.  , 0.75) (0.25, 0.75) (0.5 , 0.75) (0.75, 0.75) (1.  , 0.75)]\n",
            " [(0.  , 1.  ) (0.25, 1.  ) (0.5 , 1.  ) (0.75, 1.  ) (1.  , 1.  )]]\n"
          ]
        }
      ],
      "source": [
        "Z = np.zeros((5,5), [('x',float),('y',float)])\n",
        "Z['x'], Z['y'] = np.meshgrid(np.linspace(0,1,5),\n",
        "                             np.linspace(0,1,5))\n",
        "print(Z)"
      ]
    },
    {
      "cell_type": "markdown",
      "metadata": {
        "id": "mm2BfO-Z_YiG"
      },
      "source": [
        "####  47. Given two arrays, X and Y, construct the Cauchy matrix C (Cij =1/(xi - yj)) \n",
        "(**hint**: np.subtract.outer)"
      ]
    },
    {
      "cell_type": "code",
      "execution_count": 59,
      "metadata": {
        "id": "v8n_OMFS_YiG",
        "colab": {
          "base_uri": "https://localhost:8080/"
        },
        "outputId": "18930189-e750-4912-cd39-8dfdb83dcb05"
      },
      "outputs": [
        {
          "output_type": "stream",
          "name": "stdout",
          "text": [
            "3638.163637117973\n"
          ]
        }
      ],
      "source": [
        "X = np.arange(8)\n",
        "Y = X + 0.5\n",
        "C = 1.0 / np.subtract.outer(X, Y)\n",
        "print(np.linalg.det(C))"
      ]
    },
    {
      "cell_type": "markdown",
      "metadata": {
        "id": "nsEwZo2u_YiG"
      },
      "source": [
        "#### 48. Print the minimum and maximum representable value for each numpy scalar type (★★☆) \n",
        "(**hint**: np.iinfo, np.finfo, eps)"
      ]
    },
    {
      "cell_type": "code",
      "execution_count": 60,
      "metadata": {
        "id": "85KvD93b_YiG",
        "colab": {
          "base_uri": "https://localhost:8080/"
        },
        "outputId": "573ca583-336f-49a9-c64f-9aa7e812628b"
      },
      "outputs": [
        {
          "output_type": "stream",
          "name": "stdout",
          "text": [
            "-128\n",
            "127\n",
            "-2147483648\n",
            "2147483647\n",
            "-9223372036854775808\n",
            "9223372036854775807\n",
            "-3.4028235e+38\n",
            "3.4028235e+38\n",
            "1.1920929e-07\n",
            "-1.7976931348623157e+308\n",
            "1.7976931348623157e+308\n",
            "2.220446049250313e-16\n"
          ]
        }
      ],
      "source": [
        "for dtype in [np.int8, np.int32, np.int64]:\n",
        "    print(np.iinfo(dtype).min)\n",
        "\n",
        "    print(np.iinfo(dtype).max)\n",
        "\n",
        "for dtype in [np.float32, np.float64]:\n",
        "\n",
        "    print(np.finfo(dtype).min)\n",
        "\n",
        "    print(np.finfo(dtype).max)\n",
        "\n",
        "    print(np.finfo(dtype).eps)"
      ]
    },
    {
      "cell_type": "markdown",
      "metadata": {
        "id": "-aoXIZlB_YiG"
      },
      "source": [
        "#### 49. How to print all the values of an array? (★★☆) \n",
        "(**hint**: np.set\\_printoptions)"
      ]
    },
    {
      "cell_type": "code",
      "execution_count": 65,
      "metadata": {
        "id": "eZbNq3jh_YiG",
        "colab": {
          "base_uri": "https://localhost:8080/"
        },
        "outputId": "c75e1431-3d43-4b1a-b5eb-054b7c0988f9"
      },
      "outputs": [
        {
          "output_type": "stream",
          "name": "stdout",
          "text": [
            "[[0. 0. 0. 0. 0. 0. 0. 0. 0. 0. 0. 0. 0. 0. 0. 0. 0. 0. 0. 0. 0. 0. 0. 0.\n",
            "  0. 0. 0. 0. 0. 0. 0. 0. 0. 0. 0. 0. 0. 0. 0. 0.]\n",
            " [0. 0. 0. 0. 0. 0. 0. 0. 0. 0. 0. 0. 0. 0. 0. 0. 0. 0. 0. 0. 0. 0. 0. 0.\n",
            "  0. 0. 0. 0. 0. 0. 0. 0. 0. 0. 0. 0. 0. 0. 0. 0.]\n",
            " [0. 0. 0. 0. 0. 0. 0. 0. 0. 0. 0. 0. 0. 0. 0. 0. 0. 0. 0. 0. 0. 0. 0. 0.\n",
            "  0. 0. 0. 0. 0. 0. 0. 0. 0. 0. 0. 0. 0. 0. 0. 0.]\n",
            " [0. 0. 0. 0. 0. 0. 0. 0. 0. 0. 0. 0. 0. 0. 0. 0. 0. 0. 0. 0. 0. 0. 0. 0.\n",
            "  0. 0. 0. 0. 0. 0. 0. 0. 0. 0. 0. 0. 0. 0. 0. 0.]\n",
            " [0. 0. 0. 0. 0. 0. 0. 0. 0. 0. 0. 0. 0. 0. 0. 0. 0. 0. 0. 0. 0. 0. 0. 0.\n",
            "  0. 0. 0. 0. 0. 0. 0. 0. 0. 0. 0. 0. 0. 0. 0. 0.]\n",
            " [0. 0. 0. 0. 0. 0. 0. 0. 0. 0. 0. 0. 0. 0. 0. 0. 0. 0. 0. 0. 0. 0. 0. 0.\n",
            "  0. 0. 0. 0. 0. 0. 0. 0. 0. 0. 0. 0. 0. 0. 0. 0.]\n",
            " [0. 0. 0. 0. 0. 0. 0. 0. 0. 0. 0. 0. 0. 0. 0. 0. 0. 0. 0. 0. 0. 0. 0. 0.\n",
            "  0. 0. 0. 0. 0. 0. 0. 0. 0. 0. 0. 0. 0. 0. 0. 0.]\n",
            " [0. 0. 0. 0. 0. 0. 0. 0. 0. 0. 0. 0. 0. 0. 0. 0. 0. 0. 0. 0. 0. 0. 0. 0.\n",
            "  0. 0. 0. 0. 0. 0. 0. 0. 0. 0. 0. 0. 0. 0. 0. 0.]\n",
            " [0. 0. 0. 0. 0. 0. 0. 0. 0. 0. 0. 0. 0. 0. 0. 0. 0. 0. 0. 0. 0. 0. 0. 0.\n",
            "  0. 0. 0. 0. 0. 0. 0. 0. 0. 0. 0. 0. 0. 0. 0. 0.]\n",
            " [0. 0. 0. 0. 0. 0. 0. 0. 0. 0. 0. 0. 0. 0. 0. 0. 0. 0. 0. 0. 0. 0. 0. 0.\n",
            "  0. 0. 0. 0. 0. 0. 0. 0. 0. 0. 0. 0. 0. 0. 0. 0.]\n",
            " [0. 0. 0. 0. 0. 0. 0. 0. 0. 0. 0. 0. 0. 0. 0. 0. 0. 0. 0. 0. 0. 0. 0. 0.\n",
            "  0. 0. 0. 0. 0. 0. 0. 0. 0. 0. 0. 0. 0. 0. 0. 0.]\n",
            " [0. 0. 0. 0. 0. 0. 0. 0. 0. 0. 0. 0. 0. 0. 0. 0. 0. 0. 0. 0. 0. 0. 0. 0.\n",
            "  0. 0. 0. 0. 0. 0. 0. 0. 0. 0. 0. 0. 0. 0. 0. 0.]\n",
            " [0. 0. 0. 0. 0. 0. 0. 0. 0. 0. 0. 0. 0. 0. 0. 0. 0. 0. 0. 0. 0. 0. 0. 0.\n",
            "  0. 0. 0. 0. 0. 0. 0. 0. 0. 0. 0. 0. 0. 0. 0. 0.]\n",
            " [0. 0. 0. 0. 0. 0. 0. 0. 0. 0. 0. 0. 0. 0. 0. 0. 0. 0. 0. 0. 0. 0. 0. 0.\n",
            "  0. 0. 0. 0. 0. 0. 0. 0. 0. 0. 0. 0. 0. 0. 0. 0.]\n",
            " [0. 0. 0. 0. 0. 0. 0. 0. 0. 0. 0. 0. 0. 0. 0. 0. 0. 0. 0. 0. 0. 0. 0. 0.\n",
            "  0. 0. 0. 0. 0. 0. 0. 0. 0. 0. 0. 0. 0. 0. 0. 0.]\n",
            " [0. 0. 0. 0. 0. 0. 0. 0. 0. 0. 0. 0. 0. 0. 0. 0. 0. 0. 0. 0. 0. 0. 0. 0.\n",
            "  0. 0. 0. 0. 0. 0. 0. 0. 0. 0. 0. 0. 0. 0. 0. 0.]\n",
            " [0. 0. 0. 0. 0. 0. 0. 0. 0. 0. 0. 0. 0. 0. 0. 0. 0. 0. 0. 0. 0. 0. 0. 0.\n",
            "  0. 0. 0. 0. 0. 0. 0. 0. 0. 0. 0. 0. 0. 0. 0. 0.]\n",
            " [0. 0. 0. 0. 0. 0. 0. 0. 0. 0. 0. 0. 0. 0. 0. 0. 0. 0. 0. 0. 0. 0. 0. 0.\n",
            "  0. 0. 0. 0. 0. 0. 0. 0. 0. 0. 0. 0. 0. 0. 0. 0.]\n",
            " [0. 0. 0. 0. 0. 0. 0. 0. 0. 0. 0. 0. 0. 0. 0. 0. 0. 0. 0. 0. 0. 0. 0. 0.\n",
            "  0. 0. 0. 0. 0. 0. 0. 0. 0. 0. 0. 0. 0. 0. 0. 0.]\n",
            " [0. 0. 0. 0. 0. 0. 0. 0. 0. 0. 0. 0. 0. 0. 0. 0. 0. 0. 0. 0. 0. 0. 0. 0.\n",
            "  0. 0. 0. 0. 0. 0. 0. 0. 0. 0. 0. 0. 0. 0. 0. 0.]\n",
            " [0. 0. 0. 0. 0. 0. 0. 0. 0. 0. 0. 0. 0. 0. 0. 0. 0. 0. 0. 0. 0. 0. 0. 0.\n",
            "  0. 0. 0. 0. 0. 0. 0. 0. 0. 0. 0. 0. 0. 0. 0. 0.]\n",
            " [0. 0. 0. 0. 0. 0. 0. 0. 0. 0. 0. 0. 0. 0. 0. 0. 0. 0. 0. 0. 0. 0. 0. 0.\n",
            "  0. 0. 0. 0. 0. 0. 0. 0. 0. 0. 0. 0. 0. 0. 0. 0.]\n",
            " [0. 0. 0. 0. 0. 0. 0. 0. 0. 0. 0. 0. 0. 0. 0. 0. 0. 0. 0. 0. 0. 0. 0. 0.\n",
            "  0. 0. 0. 0. 0. 0. 0. 0. 0. 0. 0. 0. 0. 0. 0. 0.]\n",
            " [0. 0. 0. 0. 0. 0. 0. 0. 0. 0. 0. 0. 0. 0. 0. 0. 0. 0. 0. 0. 0. 0. 0. 0.\n",
            "  0. 0. 0. 0. 0. 0. 0. 0. 0. 0. 0. 0. 0. 0. 0. 0.]\n",
            " [0. 0. 0. 0. 0. 0. 0. 0. 0. 0. 0. 0. 0. 0. 0. 0. 0. 0. 0. 0. 0. 0. 0. 0.\n",
            "  0. 0. 0. 0. 0. 0. 0. 0. 0. 0. 0. 0. 0. 0. 0. 0.]\n",
            " [0. 0. 0. 0. 0. 0. 0. 0. 0. 0. 0. 0. 0. 0. 0. 0. 0. 0. 0. 0. 0. 0. 0. 0.\n",
            "  0. 0. 0. 0. 0. 0. 0. 0. 0. 0. 0. 0. 0. 0. 0. 0.]\n",
            " [0. 0. 0. 0. 0. 0. 0. 0. 0. 0. 0. 0. 0. 0. 0. 0. 0. 0. 0. 0. 0. 0. 0. 0.\n",
            "  0. 0. 0. 0. 0. 0. 0. 0. 0. 0. 0. 0. 0. 0. 0. 0.]\n",
            " [0. 0. 0. 0. 0. 0. 0. 0. 0. 0. 0. 0. 0. 0. 0. 0. 0. 0. 0. 0. 0. 0. 0. 0.\n",
            "  0. 0. 0. 0. 0. 0. 0. 0. 0. 0. 0. 0. 0. 0. 0. 0.]\n",
            " [0. 0. 0. 0. 0. 0. 0. 0. 0. 0. 0. 0. 0. 0. 0. 0. 0. 0. 0. 0. 0. 0. 0. 0.\n",
            "  0. 0. 0. 0. 0. 0. 0. 0. 0. 0. 0. 0. 0. 0. 0. 0.]\n",
            " [0. 0. 0. 0. 0. 0. 0. 0. 0. 0. 0. 0. 0. 0. 0. 0. 0. 0. 0. 0. 0. 0. 0. 0.\n",
            "  0. 0. 0. 0. 0. 0. 0. 0. 0. 0. 0. 0. 0. 0. 0. 0.]\n",
            " [0. 0. 0. 0. 0. 0. 0. 0. 0. 0. 0. 0. 0. 0. 0. 0. 0. 0. 0. 0. 0. 0. 0. 0.\n",
            "  0. 0. 0. 0. 0. 0. 0. 0. 0. 0. 0. 0. 0. 0. 0. 0.]\n",
            " [0. 0. 0. 0. 0. 0. 0. 0. 0. 0. 0. 0. 0. 0. 0. 0. 0. 0. 0. 0. 0. 0. 0. 0.\n",
            "  0. 0. 0. 0. 0. 0. 0. 0. 0. 0. 0. 0. 0. 0. 0. 0.]\n",
            " [0. 0. 0. 0. 0. 0. 0. 0. 0. 0. 0. 0. 0. 0. 0. 0. 0. 0. 0. 0. 0. 0. 0. 0.\n",
            "  0. 0. 0. 0. 0. 0. 0. 0. 0. 0. 0. 0. 0. 0. 0. 0.]\n",
            " [0. 0. 0. 0. 0. 0. 0. 0. 0. 0. 0. 0. 0. 0. 0. 0. 0. 0. 0. 0. 0. 0. 0. 0.\n",
            "  0. 0. 0. 0. 0. 0. 0. 0. 0. 0. 0. 0. 0. 0. 0. 0.]\n",
            " [0. 0. 0. 0. 0. 0. 0. 0. 0. 0. 0. 0. 0. 0. 0. 0. 0. 0. 0. 0. 0. 0. 0. 0.\n",
            "  0. 0. 0. 0. 0. 0. 0. 0. 0. 0. 0. 0. 0. 0. 0. 0.]\n",
            " [0. 0. 0. 0. 0. 0. 0. 0. 0. 0. 0. 0. 0. 0. 0. 0. 0. 0. 0. 0. 0. 0. 0. 0.\n",
            "  0. 0. 0. 0. 0. 0. 0. 0. 0. 0. 0. 0. 0. 0. 0. 0.]\n",
            " [0. 0. 0. 0. 0. 0. 0. 0. 0. 0. 0. 0. 0. 0. 0. 0. 0. 0. 0. 0. 0. 0. 0. 0.\n",
            "  0. 0. 0. 0. 0. 0. 0. 0. 0. 0. 0. 0. 0. 0. 0. 0.]\n",
            " [0. 0. 0. 0. 0. 0. 0. 0. 0. 0. 0. 0. 0. 0. 0. 0. 0. 0. 0. 0. 0. 0. 0. 0.\n",
            "  0. 0. 0. 0. 0. 0. 0. 0. 0. 0. 0. 0. 0. 0. 0. 0.]\n",
            " [0. 0. 0. 0. 0. 0. 0. 0. 0. 0. 0. 0. 0. 0. 0. 0. 0. 0. 0. 0. 0. 0. 0. 0.\n",
            "  0. 0. 0. 0. 0. 0. 0. 0. 0. 0. 0. 0. 0. 0. 0. 0.]\n",
            " [0. 0. 0. 0. 0. 0. 0. 0. 0. 0. 0. 0. 0. 0. 0. 0. 0. 0. 0. 0. 0. 0. 0. 0.\n",
            "  0. 0. 0. 0. 0. 0. 0. 0. 0. 0. 0. 0. 0. 0. 0. 0.]]\n"
          ]
        }
      ],
      "source": [
        "np.set_printoptions(threshold=float(\"inf\"))\n",
        "Z = np.zeros((40,40))\n",
        "print(Z)"
      ]
    },
    {
      "cell_type": "markdown",
      "metadata": {
        "id": "lXO5iH3__YiG"
      },
      "source": [
        "#### 50. How to find the closest value (to a given scalar) in a vector? (★★☆) \n",
        "(**hint**: argmin)"
      ]
    },
    {
      "cell_type": "code",
      "execution_count": 66,
      "metadata": {
        "id": "5KvpMnOM_YiH",
        "colab": {
          "base_uri": "https://localhost:8080/"
        },
        "outputId": "f4d1fec9-037e-484e-e0e5-88735f733c32"
      },
      "outputs": [
        {
          "output_type": "stream",
          "name": "stdout",
          "text": [
            "99\n"
          ]
        }
      ],
      "source": [
        "Z = np.arange(100)\n",
        "v = np.random.uniform(0,100)\n",
        "index = (np.abs(Z-v)).argmin()\n",
        "print(Z[index])"
      ]
    },
    {
      "cell_type": "markdown",
      "metadata": {
        "id": "-LGRciLP_YiH"
      },
      "source": [
        "#### 51. Create a structured array representing a position (x,y) and a color (r,g,b) (★★☆) \n",
        "(**hint**: dtype)"
      ]
    },
    {
      "cell_type": "code",
      "execution_count": 67,
      "metadata": {
        "id": "yVLN_Su4_YiH",
        "colab": {
          "base_uri": "https://localhost:8080/"
        },
        "outputId": "4d0d0608-2b43-4fee-efa0-e04c527f1c56"
      },
      "outputs": [
        {
          "output_type": "stream",
          "name": "stdout",
          "text": [
            "[((0., 0.), (0., 0., 0.)) ((0., 0.), (0., 0., 0.))\n",
            " ((0., 0.), (0., 0., 0.)) ((0., 0.), (0., 0., 0.))\n",
            " ((0., 0.), (0., 0., 0.)) ((0., 0.), (0., 0., 0.))\n",
            " ((0., 0.), (0., 0., 0.)) ((0., 0.), (0., 0., 0.))\n",
            " ((0., 0.), (0., 0., 0.)) ((0., 0.), (0., 0., 0.))]\n"
          ]
        },
        {
          "output_type": "stream",
          "name": "stderr",
          "text": [
            "/usr/local/lib/python3.7/dist-packages/ipykernel_launcher.py:5: FutureWarning: Passing (type, 1) or '1type' as a synonym of type is deprecated; in a future version of numpy, it will be understood as (type, (1,)) / '(1,)type'.\n",
            "  \"\"\"\n"
          ]
        }
      ],
      "source": [
        "Z = np.zeros(10, [ ('position', [ ('x', float, 1),\n",
        "                                  ('y', float, 1)]),\n",
        "                   ('color',    [ ('r', float, 1),\n",
        "                                  ('g', float, 1),\n",
        "                                  ('b', float, 1)])])\n",
        "print(Z)"
      ]
    },
    {
      "cell_type": "markdown",
      "metadata": {
        "id": "uZufPWt8_YiH"
      },
      "source": [
        "#### 52. Consider a random vector with shape (100,2) representing coordinates, find point by point distances (★★☆) \n",
        "(**hint**: np.atleast\\_2d, T, np.sqrt)"
      ]
    },
    {
      "cell_type": "code",
      "execution_count": 68,
      "metadata": {
        "id": "PZhuPL0V_YiH",
        "colab": {
          "base_uri": "https://localhost:8080/"
        },
        "outputId": "56f75f01-7598-431b-a05f-14696936f01b"
      },
      "outputs": [
        {
          "output_type": "stream",
          "name": "stdout",
          "text": [
            "[[0.         0.72152641 0.64595117 0.36264002 0.44698941 0.48859506\n",
            "  0.32097964 0.22988543 0.5626083  0.79799745]\n",
            " [0.72152641 0.         0.93270213 0.72092665 0.9016848  1.00460809\n",
            "  0.99895922 0.50535498 0.67459515 0.78548719]\n",
            " [0.64595117 0.93270213 0.         0.29676805 0.2305079  0.28916112\n",
            "  0.54869669 0.60431055 0.26312508 0.3329545 ]\n",
            " [0.36264002 0.72092665 0.29676805 0.         0.18079459 0.28534371\n",
            "  0.38657771 0.31318445 0.22611548 0.45292666]\n",
            " [0.44698941 0.9016848  0.2305079  0.18079459 0.         0.1099512\n",
            "  0.31975304 0.47239484 0.33335893 0.51112828]\n",
            " [0.48859506 1.00460809 0.28916112 0.28534371 0.1099512  0.\n",
            "  0.28131821 0.55518509 0.43971611 0.60112289]\n",
            " [0.32097964 0.99895922 0.54869669 0.38657771 0.31975304 0.28131821\n",
            "  0.         0.4954913  0.6075891  0.81707527]\n",
            " [0.22988543 0.50535498 0.60431055 0.31318445 0.47239484 0.55518509\n",
            "  0.4954913  0.         0.43337787 0.6576534 ]\n",
            " [0.5626083  0.67459515 0.26312508 0.22611548 0.33335893 0.43971611\n",
            "  0.6075891  0.43337787 0.         0.23539118]\n",
            " [0.79799745 0.78548719 0.3329545  0.45292666 0.51112828 0.60112289\n",
            "  0.81707527 0.6576534  0.23539118 0.        ]]\n"
          ]
        }
      ],
      "source": [
        "Z = np.random.random((10,2))\n",
        "X,Y = np.atleast_2d(Z[:,0], Z[:,1])\n",
        "D = np.sqrt( (X-X.T)**2 + (Y-Y.T)**2)\n",
        "print(D)"
      ]
    },
    {
      "cell_type": "markdown",
      "metadata": {
        "id": "HO3Itmuh_YiH"
      },
      "source": [
        "#### 53. How to convert a float (32 bits) array into an integer (32 bits) in place? \n",
        "(**hint**: astype(copy=False))"
      ]
    },
    {
      "cell_type": "code",
      "execution_count": 69,
      "metadata": {
        "id": "B_I3wB0B_YiH",
        "colab": {
          "base_uri": "https://localhost:8080/"
        },
        "outputId": "95ed3ab6-9d4c-45bc-a275-41e294544545"
      },
      "outputs": [
        {
          "output_type": "stream",
          "name": "stdout",
          "text": [
            "[81 63 50 87 44 22 21 43 58 15]\n"
          ]
        }
      ],
      "source": [
        "Z = (np.random.rand(10)*100).astype(np.float32)\n",
        "Y = Z.view(np.int32)\n",
        "Y[:] = Z\n",
        "print(Y)"
      ]
    },
    {
      "cell_type": "markdown",
      "metadata": {
        "id": "8-Omsx44_YiH"
      },
      "source": [
        "#### 54. How to read the following file? (★★☆) \n",
        "(**hint**: np.genfromtxt)"
      ]
    },
    {
      "cell_type": "markdown",
      "metadata": {
        "id": "Ounks7NB_YiH"
      },
      "source": [
        "```\n",
        "1, 2, 3, 4, 5\n",
        "6,  ,  , 7, 8\n",
        " ,  , 9,10,11\n",
        "```"
      ]
    },
    {
      "cell_type": "code",
      "execution_count": 70,
      "metadata": {
        "id": "uZSDYqP9_YiI",
        "colab": {
          "base_uri": "https://localhost:8080/"
        },
        "outputId": "cb5d3989-65b6-4ca2-e971-ecdf6947c55a"
      },
      "outputs": [
        {
          "output_type": "stream",
          "name": "stdout",
          "text": [
            "[[ 1  2  3  4  5]\n",
            " [ 6 -1 -1  7  8]\n",
            " [-1 -1  9 10 11]]\n"
          ]
        },
        {
          "output_type": "stream",
          "name": "stderr",
          "text": [
            "/usr/local/lib/python3.7/dist-packages/ipykernel_launcher.py:6: DeprecationWarning: `np.int` is a deprecated alias for the builtin `int`. To silence this warning, use `int` by itself. Doing this will not modify any behavior and is safe. When replacing `np.int`, you may wish to use e.g. `np.int64` or `np.int32` to specify the precision. If you wish to review your current use, check the release note link for additional information.\n",
            "Deprecated in NumPy 1.20; for more details and guidance: https://numpy.org/devdocs/release/1.20.0-notes.html#deprecations\n",
            "  \n"
          ]
        }
      ],
      "source": [
        "from io import StringIO\n",
        "s = StringIO('''1, 2, 3, 4, 5\n",
        "                6,  ,  , 7, 8\n",
        "                 ,  , 9,10,11\n",
        "''')\n",
        "Z = np.genfromtxt(s, delimiter=\",\", dtype=np.int)\n",
        "print(Z)"
      ]
    },
    {
      "cell_type": "markdown",
      "metadata": {
        "id": "bjfoxmmm_YiI"
      },
      "source": [
        "#### 55. What is the equivalent of enumerate for numpy arrays? (★★☆) \n",
        "(**hint**: np.ndenumerate, np.ndindex)"
      ]
    },
    {
      "cell_type": "code",
      "execution_count": 71,
      "metadata": {
        "id": "XZC53QiQ_YiI",
        "colab": {
          "base_uri": "https://localhost:8080/"
        },
        "outputId": "a13f12c8-26f4-488a-c0f5-0fdc270d54ba"
      },
      "outputs": [
        {
          "output_type": "stream",
          "name": "stdout",
          "text": [
            "(0, 0) 0\n",
            "(0, 1) 1\n",
            "(0, 2) 2\n",
            "(1, 0) 3\n",
            "(1, 1) 4\n",
            "(1, 2) 5\n",
            "(2, 0) 6\n",
            "(2, 1) 7\n",
            "(2, 2) 8\n",
            "(0, 0) 0\n",
            "(0, 1) 1\n",
            "(0, 2) 2\n",
            "(1, 0) 3\n",
            "(1, 1) 4\n",
            "(1, 2) 5\n",
            "(2, 0) 6\n",
            "(2, 1) 7\n",
            "(2, 2) 8\n"
          ]
        }
      ],
      "source": [
        "Z = np.arange(9).reshape(3,3)\n",
        "for index, value in np.ndenumerate(Z):\n",
        "    print(index, value)\n",
        "for index in np.ndindex(Z.shape):\n",
        "    print(index, Z[index])"
      ]
    },
    {
      "cell_type": "markdown",
      "metadata": {
        "id": "y0MzcRgj_YiI"
      },
      "source": [
        "#### 56. Generate a generic 2D Gaussian-like array (★★☆) \n",
        "(**hint**: np.meshgrid, np.exp)"
      ]
    },
    {
      "cell_type": "code",
      "execution_count": 72,
      "metadata": {
        "id": "CUdhcAgf_YiI",
        "colab": {
          "base_uri": "https://localhost:8080/"
        },
        "outputId": "e185f9c8-bb25-470f-8553-30e9abcd5170"
      },
      "outputs": [
        {
          "output_type": "stream",
          "name": "stdout",
          "text": [
            "[[0.36787944 0.44822088 0.51979489 0.57375342 0.60279818 0.60279818\n",
            "  0.57375342 0.51979489 0.44822088 0.36787944]\n",
            " [0.44822088 0.54610814 0.63331324 0.69905581 0.73444367 0.73444367\n",
            "  0.69905581 0.63331324 0.54610814 0.44822088]\n",
            " [0.51979489 0.63331324 0.73444367 0.81068432 0.85172308 0.85172308\n",
            "  0.81068432 0.73444367 0.63331324 0.51979489]\n",
            " [0.57375342 0.69905581 0.81068432 0.89483932 0.9401382  0.9401382\n",
            "  0.89483932 0.81068432 0.69905581 0.57375342]\n",
            " [0.60279818 0.73444367 0.85172308 0.9401382  0.98773022 0.98773022\n",
            "  0.9401382  0.85172308 0.73444367 0.60279818]\n",
            " [0.60279818 0.73444367 0.85172308 0.9401382  0.98773022 0.98773022\n",
            "  0.9401382  0.85172308 0.73444367 0.60279818]\n",
            " [0.57375342 0.69905581 0.81068432 0.89483932 0.9401382  0.9401382\n",
            "  0.89483932 0.81068432 0.69905581 0.57375342]\n",
            " [0.51979489 0.63331324 0.73444367 0.81068432 0.85172308 0.85172308\n",
            "  0.81068432 0.73444367 0.63331324 0.51979489]\n",
            " [0.44822088 0.54610814 0.63331324 0.69905581 0.73444367 0.73444367\n",
            "  0.69905581 0.63331324 0.54610814 0.44822088]\n",
            " [0.36787944 0.44822088 0.51979489 0.57375342 0.60279818 0.60279818\n",
            "  0.57375342 0.51979489 0.44822088 0.36787944]]\n"
          ]
        }
      ],
      "source": [
        "X, Y = np.meshgrid(np.linspace(-1,1,10), np.linspace(-1,1,10))\n",
        "D = np.sqrt(X*X+Y*Y)\n",
        "sigma, mu = 1.0, 0.0\n",
        "G = np.exp(-( (D-mu)**2 / ( 2.0 * sigma**2 ) ) )\n",
        "print(G)"
      ]
    },
    {
      "cell_type": "markdown",
      "metadata": {
        "id": "ynG-kNpR_YiI"
      },
      "source": [
        "#### 57. How to randomly place p elements in a 2D array? (★★☆) \n",
        "(**hint**: np.put, np.random.choice)"
      ]
    },
    {
      "cell_type": "code",
      "execution_count": 73,
      "metadata": {
        "id": "CF25ZJ2u_YiI",
        "colab": {
          "base_uri": "https://localhost:8080/"
        },
        "outputId": "d86ddbd7-ce6a-4328-bab6-2607645a0009"
      },
      "outputs": [
        {
          "output_type": "stream",
          "name": "stdout",
          "text": [
            "[[0. 0. 0. 0. 0. 0. 0. 0. 0. 0.]\n",
            " [0. 0. 1. 0. 0. 0. 0. 0. 0. 0.]\n",
            " [0. 0. 0. 0. 0. 0. 0. 0. 0. 0.]\n",
            " [0. 0. 0. 0. 0. 0. 0. 0. 0. 0.]\n",
            " [0. 0. 0. 0. 0. 0. 0. 0. 0. 0.]\n",
            " [0. 0. 0. 0. 0. 0. 0. 0. 0. 0.]\n",
            " [0. 0. 0. 0. 0. 0. 0. 0. 0. 0.]\n",
            " [1. 0. 0. 0. 0. 0. 0. 0. 0. 0.]\n",
            " [0. 1. 0. 0. 0. 0. 0. 0. 0. 0.]\n",
            " [0. 0. 0. 0. 0. 0. 0. 0. 0. 0.]]\n"
          ]
        }
      ],
      "source": [
        "n = 10\n",
        "p = 3\n",
        "Z = np.zeros((n,n))\n",
        "np.put(Z, np.random.choice(range(n*n), p, replace=False),1)\n",
        "print(Z)"
      ]
    },
    {
      "cell_type": "markdown",
      "metadata": {
        "id": "nn_DzHCf_YiI"
      },
      "source": [
        "#### 58. Subtract the mean of each row of a matrix (★★☆) \n",
        "(**hint**: mean(axis=,keepdims=))"
      ]
    },
    {
      "cell_type": "code",
      "execution_count": 75,
      "metadata": {
        "id": "By-xInf__YiI",
        "colab": {
          "base_uri": "https://localhost:8080/"
        },
        "outputId": "6bac8703-490e-40f6-d548-19603996fc53"
      },
      "outputs": [
        {
          "output_type": "stream",
          "name": "stdout",
          "text": [
            "[[ 0.00857734 -0.37160981 -0.09666794 -0.39624301 -0.17050476  0.41897375\n",
            "  -0.16590117  0.29535203  0.42946199  0.04856159]\n",
            " [ 0.35179025 -0.02478916 -0.12415274  0.47348552  0.19176885 -0.16932585\n",
            "  -0.23291058 -0.24510166 -0.05947608 -0.16128855]\n",
            " [ 0.37501194  0.39911783  0.26593441 -0.28890499 -0.39173136  0.26157381\n",
            "  -0.28857217  0.29081728 -0.41295599 -0.21029076]\n",
            " [ 0.33009212 -0.3494817  -0.39933855 -0.08921596 -0.04883974  0.43834952\n",
            "   0.35801322 -0.21192659 -0.29137831  0.263726  ]\n",
            " [-0.27309732 -0.168564   -0.11229477  0.30153165  0.01206647  0.26155953\n",
            "   0.13320879 -0.01401531 -0.3161663   0.17577126]]\n"
          ]
        }
      ],
      "source": [
        "X = np.random.rand(5, 10)\n",
        "\n",
        "Y = X - X.mean(axis=1, keepdims=True)\n",
        "print(Y)"
      ]
    },
    {
      "cell_type": "markdown",
      "metadata": {
        "id": "AuYNLozk_YiI"
      },
      "source": [
        "#### 59. How to sort an array by the nth column? (★★☆) \n",
        "(**hint**: argsort)"
      ]
    },
    {
      "cell_type": "code",
      "execution_count": 76,
      "metadata": {
        "id": "MgKczBJu_YiI",
        "colab": {
          "base_uri": "https://localhost:8080/"
        },
        "outputId": "c7f49738-2eae-4f99-c150-ccc235cabeaa"
      },
      "outputs": [
        {
          "output_type": "stream",
          "name": "stdout",
          "text": [
            "[[2 2 1]\n",
            " [8 6 3]\n",
            " [8 8 3]]\n",
            "[[2 2 1]\n",
            " [8 6 3]\n",
            " [8 8 3]]\n"
          ]
        }
      ],
      "source": [
        "Z = np.random.randint(0,10,(3,3))\n",
        "print(Z)\n",
        "print(Z[Z[:,1].argsort()])"
      ]
    },
    {
      "cell_type": "markdown",
      "metadata": {
        "id": "JtF3zl5J_YiI"
      },
      "source": [
        "#### 60. How to tell if a given 2D array has null columns? (★★☆) \n",
        "(**hint**: any, ~)"
      ]
    },
    {
      "cell_type": "code",
      "execution_count": 77,
      "metadata": {
        "id": "qSnWADR7_YiJ",
        "colab": {
          "base_uri": "https://localhost:8080/"
        },
        "outputId": "784fb9ff-7672-48fe-c61a-cd96067618c6"
      },
      "outputs": [
        {
          "output_type": "stream",
          "name": "stdout",
          "text": [
            "False\n"
          ]
        }
      ],
      "source": [
        "Z = np.random.randint(0,3,(3,10))\n",
        "print((~Z.any(axis=0)).any())"
      ]
    },
    {
      "cell_type": "markdown",
      "metadata": {
        "id": "93feY-U9_YiJ"
      },
      "source": [
        "#### 61. Find the nearest value from a given value in an array (★★☆) \n",
        "(**hint**: np.abs, argmin, flat)"
      ]
    },
    {
      "cell_type": "code",
      "execution_count": 78,
      "metadata": {
        "id": "RdCb7fkv_YiJ",
        "colab": {
          "base_uri": "https://localhost:8080/"
        },
        "outputId": "963213cc-749b-4023-ae83-a24a51527ec0"
      },
      "outputs": [
        {
          "output_type": "stream",
          "name": "stdout",
          "text": [
            "0.5123152210748407\n"
          ]
        }
      ],
      "source": [
        "Z = np.random.uniform(0,1,10)\n",
        "z = 0.5\n",
        "m = Z.flat[np.abs(Z - z).argmin()]\n",
        "print(m)"
      ]
    },
    {
      "cell_type": "markdown",
      "metadata": {
        "id": "uOn2hnd3_YiJ"
      },
      "source": [
        "#### 62. Considering two arrays with shape (1,3) and (3,1), how to compute their sum using an iterator? (★★☆) \n",
        "(**hint**: np.nditer)"
      ]
    },
    {
      "cell_type": "code",
      "execution_count": 79,
      "metadata": {
        "id": "B6y51W1o_YiJ",
        "colab": {
          "base_uri": "https://localhost:8080/"
        },
        "outputId": "b6d19ccb-b303-45d2-f14c-5bdc4cd9e5d5"
      },
      "outputs": [
        {
          "output_type": "stream",
          "name": "stdout",
          "text": [
            "[[0 1 2]\n",
            " [1 2 3]\n",
            " [2 3 4]]\n"
          ]
        }
      ],
      "source": [
        "A = np.arange(3).reshape(3,1)\n",
        "B = np.arange(3).reshape(1,3)\n",
        "it = np.nditer([A,B,None])\n",
        "for x,y,z in it: z[...] = x + y\n",
        "print(it.operands[2])"
      ]
    },
    {
      "cell_type": "markdown",
      "metadata": {
        "id": "FtW8snYT_YiJ"
      },
      "source": [
        "#### 63. Create an array class that has a name attribute (★★☆) \n",
        "(**hint**: class method)"
      ]
    },
    {
      "cell_type": "code",
      "execution_count": 80,
      "metadata": {
        "id": "de-Uk1Zm_YiJ",
        "colab": {
          "base_uri": "https://localhost:8080/"
        },
        "outputId": "af2593b3-32c8-4d1b-d81c-7db14d05f1a8"
      },
      "outputs": [
        {
          "output_type": "stream",
          "name": "stdout",
          "text": [
            "range_10\n"
          ]
        }
      ],
      "source": [
        "class NamedArray(np.ndarray):\n",
        "    def __new__(cls, array, name=\"no name\"):\n",
        "        obj = np.asarray(array).view(cls)\n",
        "        obj.name = name\n",
        "        return obj\n",
        "    def __array_finalize__(self, obj):\n",
        "        if obj is None: return\n",
        "        self.info = getattr(obj, 'name', \"no name\")\n",
        "\n",
        "Z = NamedArray(np.arange(10), \"range_10\")\n",
        "print (Z.name)"
      ]
    },
    {
      "cell_type": "markdown",
      "metadata": {
        "id": "HDdWjU7p_YiJ"
      },
      "source": [
        "#### 64. Consider a given vector, how to add 1 to each element indexed by a second vector (be careful with repeated indices)? (★★★) \n",
        "(**hint**: np.bincount | np.add.at)"
      ]
    },
    {
      "cell_type": "code",
      "execution_count": 81,
      "metadata": {
        "id": "UBMEyMSP_YiJ",
        "colab": {
          "base_uri": "https://localhost:8080/"
        },
        "outputId": "aef9339b-1ef6-4103-bab0-f6a0f21778b0"
      },
      "outputs": [
        {
          "output_type": "stream",
          "name": "stdout",
          "text": [
            "[4. 3. 4. 2. 4. 3. 2. 4. 3. 1.]\n"
          ]
        }
      ],
      "source": [
        "Z = np.ones(10)\n",
        "I = np.random.randint(0,len(Z),20)\n",
        "Z += np.bincount(I, minlength=len(Z))\n",
        "print(Z)"
      ]
    },
    {
      "cell_type": "code",
      "source": [
        "np.add.at(Z, I, 1)\n",
        "print(Z)"
      ],
      "metadata": {
        "colab": {
          "base_uri": "https://localhost:8080/"
        },
        "id": "5tJhLSgR83Z_",
        "outputId": "a2f10316-7ef5-4726-e21c-2261b5d762aa"
      },
      "execution_count": 82,
      "outputs": [
        {
          "output_type": "stream",
          "name": "stdout",
          "text": [
            "[7. 5. 7. 3. 7. 5. 3. 7. 5. 1.]\n"
          ]
        }
      ]
    },
    {
      "cell_type": "markdown",
      "metadata": {
        "id": "CsIzqkCf_YiJ"
      },
      "source": [
        "#### 65. How to accumulate elements of a vector (X) to an array (F) based on an index list (I)? (★★★) \n",
        "(**hint**: np.bincount)"
      ]
    },
    {
      "cell_type": "code",
      "execution_count": 83,
      "metadata": {
        "id": "cHpRnqFN_YiJ",
        "colab": {
          "base_uri": "https://localhost:8080/"
        },
        "outputId": "442eea51-613e-400f-826e-5b262415693c"
      },
      "outputs": [
        {
          "output_type": "stream",
          "name": "stdout",
          "text": [
            "[0. 7. 0. 6. 5. 0. 0. 0. 0. 3.]\n"
          ]
        }
      ],
      "source": [
        "X = [1,2,3,4,5,6]\n",
        "I = [1,3,9,3,4,1]\n",
        "F = np.bincount(I,X)\n",
        "print(F)"
      ]
    },
    {
      "cell_type": "markdown",
      "metadata": {
        "id": "0ml1YKAn_YiK"
      },
      "source": [
        "#### 66. Considering a (w,h,3) image of (dtype=ubyte), compute the number of unique colors (★★★) \n",
        "(**hint**: np.unique)"
      ]
    },
    {
      "cell_type": "code",
      "execution_count": 84,
      "metadata": {
        "id": "3QdOlwwT_YiK",
        "colab": {
          "base_uri": "https://localhost:8080/"
        },
        "outputId": "b8f7c500-9c68-4e37-e9c4-00b9422a289d"
      },
      "outputs": [
        {
          "output_type": "stream",
          "name": "stdout",
          "text": [
            "64\n"
          ]
        }
      ],
      "source": [
        "w, h = 256, 256\n",
        "I = np.random.randint(0, 4, (h, w, 3)).astype(np.ubyte)\n",
        "colors = np.unique(I.reshape(-1, 3), axis=0)\n",
        "n = len(colors)\n",
        "print(n)"
      ]
    },
    {
      "cell_type": "markdown",
      "metadata": {
        "id": "vhBzzC7y_YiK"
      },
      "source": [
        "#### 67. Considering a four dimensions array, how to get sum over the last two axis at once? (★★★) \n",
        "(**hint**: sum(axis=(-2,-1)))"
      ]
    },
    {
      "cell_type": "code",
      "execution_count": 88,
      "metadata": {
        "id": "PCxD77--_YiK",
        "colab": {
          "base_uri": "https://localhost:8080/"
        },
        "outputId": "50424b7c-a6c2-49a4-daa5-6273932fc50f"
      },
      "outputs": [
        {
          "output_type": "stream",
          "name": "stdout",
          "text": [
            "[[51 86 55 54]\n",
            " [48 47 56 33]\n",
            " [58 64 56 48]]\n",
            "method2\n",
            "[[51 86 55 54]\n",
            " [48 47 56 33]\n",
            " [58 64 56 48]]\n"
          ]
        }
      ],
      "source": [
        "A = np.random.randint(0,10,(3,4,3,4))\n",
        "sum = A.sum(axis=(-2,-1))\n",
        "print(sum)\n",
        "print(\"method2\")\n",
        "sum = A.reshape(A.shape[:-2] + (-1,)).sum(axis=-1)\n",
        "print(sum)"
      ]
    },
    {
      "cell_type": "markdown",
      "metadata": {
        "id": "KeXh-Uyd_YiK"
      },
      "source": [
        "#### 68. Considering a one-dimensional vector D, how to compute means of subsets of D using a vector S of same size describing subset  indices? (★★★) \n",
        "(**hint**: np.bincount)"
      ]
    },
    {
      "cell_type": "code",
      "execution_count": 89,
      "metadata": {
        "id": "Zr_tHu0T_YiK",
        "colab": {
          "base_uri": "https://localhost:8080/"
        },
        "outputId": "865a16d5-8076-4eef-fd41-fa22bc6cc5d2"
      },
      "outputs": [
        {
          "output_type": "stream",
          "name": "stdout",
          "text": [
            "[0.46046673 0.46838719 0.52106104 0.48751815 0.59810808 0.48013989\n",
            " 0.56924551 0.53187541 0.57362056 0.57743579]\n"
          ]
        }
      ],
      "source": [
        "D = np.random.uniform(0,1,100)\n",
        "S = np.random.randint(0,10,100)\n",
        "D_sums = np.bincount(S, weights=D)\n",
        "D_counts = np.bincount(S)\n",
        "D_means = D_sums / D_counts\n",
        "print(D_means)"
      ]
    },
    {
      "cell_type": "markdown",
      "metadata": {
        "id": "wZPmLLWe_YiK"
      },
      "source": [
        "#### 69. How to get the diagonal of a dot product? (★★★) \n",
        "(**hint**: np.diag)"
      ]
    },
    {
      "cell_type": "code",
      "execution_count": 91,
      "metadata": {
        "id": "h6ZKc29X_YiK",
        "colab": {
          "base_uri": "https://localhost:8080/"
        },
        "outputId": "00d32261-08da-4d5f-907f-0be59d814b71"
      },
      "outputs": [
        {
          "output_type": "execute_result",
          "data": {
            "text/plain": [
              "array([0.54112792, 0.54841708, 1.53927658, 1.79168735, 1.95262376])"
            ]
          },
          "metadata": {},
          "execution_count": 91
        }
      ],
      "source": [
        "A = np.random.uniform(0,1,(5,5))\n",
        "B = np.random.uniform(0,1,(5,5))\n",
        "np.diag(np.dot(A, B))"
      ]
    },
    {
      "cell_type": "markdown",
      "metadata": {
        "id": "ffyMXlUS_YiK"
      },
      "source": [
        "#### 70. Consider the vector \\[1, 2, 3, 4, 5\\], how to build a new vector with 3 consecutive zeros interleaved between each value? (★★★) \n",
        "(**hint**: array\\[::4\\])"
      ]
    },
    {
      "cell_type": "code",
      "execution_count": 92,
      "metadata": {
        "id": "qCx4QvtO_YiL",
        "colab": {
          "base_uri": "https://localhost:8080/"
        },
        "outputId": "d26a65bf-cb73-4dba-a667-baaa02bac7f1"
      },
      "outputs": [
        {
          "output_type": "stream",
          "name": "stdout",
          "text": [
            "[1. 0. 0. 0. 2. 0. 0. 0. 3. 0. 0. 0. 4. 0. 0. 0. 5.]\n"
          ]
        }
      ],
      "source": [
        "Z = np.array([1,2,3,4,5])\n",
        "nz = 3\n",
        "Z0 = np.zeros(len(Z) + (len(Z)-1)*(nz))\n",
        "Z0[::nz+1] = Z\n",
        "print(Z0)"
      ]
    },
    {
      "cell_type": "markdown",
      "metadata": {
        "id": "UTEEamB7_YiL"
      },
      "source": [
        "#### 71. Consider an array of dimension (5,5,3), how to mulitply it by an array with dimensions (5,5)? (★★★) \n",
        "(**hint**: array\\[:, :, None\\])"
      ]
    },
    {
      "cell_type": "code",
      "execution_count": 94,
      "metadata": {
        "collapsed": true,
        "id": "qKEP5BhK_YiL",
        "colab": {
          "base_uri": "https://localhost:8080/"
        },
        "outputId": "3b15f9cc-4458-4cdb-e79f-fb14afc9aed7"
      },
      "outputs": [
        {
          "output_type": "stream",
          "name": "stdout",
          "text": [
            "[[[2. 2. 2.]\n",
            "  [2. 2. 2.]\n",
            "  [2. 2. 2.]\n",
            "  [2. 2. 2.]\n",
            "  [2. 2. 2.]]\n",
            "\n",
            " [[2. 2. 2.]\n",
            "  [2. 2. 2.]\n",
            "  [2. 2. 2.]\n",
            "  [2. 2. 2.]\n",
            "  [2. 2. 2.]]\n",
            "\n",
            " [[2. 2. 2.]\n",
            "  [2. 2. 2.]\n",
            "  [2. 2. 2.]\n",
            "  [2. 2. 2.]\n",
            "  [2. 2. 2.]]\n",
            "\n",
            " [[2. 2. 2.]\n",
            "  [2. 2. 2.]\n",
            "  [2. 2. 2.]\n",
            "  [2. 2. 2.]\n",
            "  [2. 2. 2.]]\n",
            "\n",
            " [[2. 2. 2.]\n",
            "  [2. 2. 2.]\n",
            "  [2. 2. 2.]\n",
            "  [2. 2. 2.]\n",
            "  [2. 2. 2.]]]\n"
          ]
        }
      ],
      "source": [
        "A = np.ones((5,5,3))\n",
        "B = 2*np.ones((5,5))\n",
        "print(A * B[:,:,None])"
      ]
    },
    {
      "cell_type": "markdown",
      "metadata": {
        "id": "4lEcq8km_YiL"
      },
      "source": [
        "#### 72. How to swap two rows of an array? (★★★) \n",
        "(**hint**: array\\[\\[\\]\\] = array\\[\\[\\]\\])"
      ]
    },
    {
      "cell_type": "code",
      "execution_count": 97,
      "metadata": {
        "id": "6y_Lpd-2_YiL",
        "colab": {
          "base_uri": "https://localhost:8080/"
        },
        "outputId": "34fb4982-375e-451d-d639-11b0a1d489d9"
      },
      "outputs": [
        {
          "output_type": "stream",
          "name": "stdout",
          "text": [
            "[[ 5  6  7  8  9]\n",
            " [ 0  1  2  3  4]\n",
            " [10 11 12 13 14]\n",
            " [15 16 17 18 19]\n",
            " [20 21 22 23 24]]\n"
          ]
        }
      ],
      "source": [
        "A = np.arange(25).reshape(5,5)\n",
        "A[[0,1]] = A[[1,0]]\n",
        "print(A)"
      ]
    },
    {
      "cell_type": "markdown",
      "metadata": {
        "id": "YjxznrdC_YiL"
      },
      "source": [
        "#### 73. Consider a set of 10 triplets describing 10 triangles (with shared vertices), find the set of unique line segments composing all the  triangles (★★★) \n",
        "(**hint**: repeat, np.roll, np.sort, view, np.unique)"
      ]
    },
    {
      "cell_type": "code",
      "execution_count": 98,
      "metadata": {
        "id": "6Ve0gf58_YiL",
        "colab": {
          "base_uri": "https://localhost:8080/"
        },
        "outputId": "d88f7ce4-b620-49ae-8caa-0b0a6d25e6df"
      },
      "outputs": [
        {
          "output_type": "stream",
          "name": "stdout",
          "text": [
            "[( 0, 38) ( 0, 76) ( 0, 92) ( 0, 99) ( 2, 31) ( 2, 90) ( 8, 65) ( 8, 89)\n",
            " (15, 28) (15, 61) (16, 21) (16, 75) (21, 75) (26, 90) (26, 96) (28, 61)\n",
            " (30, 44) (30, 49) (31, 45) (31, 53) (31, 90) (38, 99) (44, 49) (45, 53)\n",
            " (51, 87) (51, 94) (65, 89) (76, 92) (87, 94) (90, 96)]\n"
          ]
        }
      ],
      "source": [
        "faces = np.random.randint(0,100,(10,3))\n",
        "F = np.roll(faces.repeat(2,axis=1),-1,axis=1)\n",
        "F = F.reshape(len(F)*3,2)\n",
        "F = np.sort(F,axis=1)\n",
        "G = F.view( dtype=[('p0',F.dtype),('p1',F.dtype)] )\n",
        "G = np.unique(G)\n",
        "print(G)"
      ]
    },
    {
      "cell_type": "markdown",
      "metadata": {
        "id": "LJAT89B8_YiL"
      },
      "source": [
        "#### 74. Given an array C that is a bincount, how to produce an array A such that np.bincount(A) == C? (★★★) \n",
        "(**hint**: np.repeat)"
      ]
    },
    {
      "cell_type": "code",
      "execution_count": 99,
      "metadata": {
        "id": "r5knf209_YiL",
        "colab": {
          "base_uri": "https://localhost:8080/"
        },
        "outputId": "6473b93a-35b8-4631-b8fc-dd9e7cb34548"
      },
      "outputs": [
        {
          "output_type": "stream",
          "name": "stdout",
          "text": [
            "[1 1 2 3 4 4 6]\n"
          ]
        }
      ],
      "source": [
        "C = np.bincount([1,1,2,3,4,4,6])\n",
        "A = np.repeat(np.arange(len(C)), C)\n",
        "print(A)"
      ]
    },
    {
      "cell_type": "markdown",
      "metadata": {
        "id": "T4lD0-4m_YiM"
      },
      "source": [
        "#### 75. How to compute averages using a sliding window over an array? (★★★) \n",
        "(**hint**: np.cumsum)"
      ]
    },
    {
      "cell_type": "code",
      "execution_count": 100,
      "metadata": {
        "id": "LEJ2nBCN_YiM",
        "colab": {
          "base_uri": "https://localhost:8080/"
        },
        "outputId": "8e0ff241-b29e-41de-c046-ae89dd24cc80"
      },
      "outputs": [
        {
          "output_type": "stream",
          "name": "stdout",
          "text": [
            "[ 1.  2.  3.  4.  5.  6.  7.  8.  9. 10. 11. 12. 13. 14. 15. 16. 17. 18.]\n"
          ]
        }
      ],
      "source": [
        "def moving_average(a, n=3) :\n",
        "    ret = np.cumsum(a, dtype=float)\n",
        "    ret[n:] = ret[n:] - ret[:-n]\n",
        "    return ret[n - 1:] / n\n",
        "Z = np.arange(20)\n",
        "print(moving_average(Z, n=3))"
      ]
    },
    {
      "cell_type": "markdown",
      "metadata": {
        "id": "IsO8pUxc_YiM"
      },
      "source": [
        "#### 76. Consider a one-dimensional array Z, build a two-dimensional array whose first row is (Z\\[0\\],Z\\[1\\],Z\\[2\\]) and each subsequent row is  shifted by 1 (last row should be (Z\\[-3\\],Z\\[-2\\],Z\\[-1\\]) (★★★) \n",
        "(**hint**: from numpy.lib import stride_tricks)"
      ]
    },
    {
      "cell_type": "code",
      "execution_count": 10,
      "metadata": {
        "id": "cUnfPQrs_YiM",
        "colab": {
          "base_uri": "https://localhost:8080/"
        },
        "outputId": "1799a2c8-1d53-4de0-8910-b5085b92c1d9"
      },
      "outputs": [
        {
          "output_type": "stream",
          "name": "stdout",
          "text": [
            "[[0 1 2]\n",
            " [1 2 3]\n",
            " [2 3 4]\n",
            " [3 4 5]\n",
            " [4 5 6]\n",
            " [5 6 7]\n",
            " [6 7 8]\n",
            " [7 8 9]]\n"
          ]
        }
      ],
      "source": [
        "import numpy as np\n",
        "from numpy.lib import stride_tricks\n",
        "def rolling(a, window):\n",
        "  shape = (a.size - window + 1, window)\n",
        "  strides = (a.itemsize, a.itemsize)\n",
        "  return stride_tricks.as_strided(a, shape=shape, strides=strides)\n",
        "\n",
        "Z = rolling(np.arange(10), 3)\n",
        "\n",
        "print(Z)"
      ]
    },
    {
      "cell_type": "markdown",
      "metadata": {
        "id": "rJYpDyw2_YiM"
      },
      "source": [
        "#### 77. How to negate a boolean, or to change the sign of a float inplace? (★★★) \n",
        "(**hint**: np.logical_not, np.negative)"
      ]
    },
    {
      "cell_type": "code",
      "execution_count": 14,
      "metadata": {
        "id": "qBD5trZl_YiM",
        "colab": {
          "base_uri": "https://localhost:8080/"
        },
        "outputId": "67b37674-20a1-4e73-d2bb-e5e9cfe34fd3"
      },
      "outputs": [
        {
          "output_type": "execute_result",
          "data": {
            "text/plain": [
              "array([ 0.42491173,  0.04603063, -0.68566098, -0.67512282,  0.02422878,\n",
              "       -0.00670189, -0.28617888,  0.32595278,  0.89577461,  0.78796367,\n",
              "       -0.80679382,  0.44174304,  0.34365485, -0.74466681, -0.78100956,\n",
              "        0.54359245, -0.48854364,  0.12555656,  0.53783421,  0.17664239,\n",
              "        0.55239821,  0.4735333 , -0.32580184, -0.38554126,  0.42962931,\n",
              "        0.79906828, -0.35758694, -0.34189964,  0.69474976, -0.74987839,\n",
              "       -0.80234424, -0.0932935 , -0.20759322,  0.55305916,  0.90517757,\n",
              "        0.59790448,  0.29246363, -0.13350661,  0.95098276,  0.78586834,\n",
              "        0.50788655,  0.82132976, -0.16559827, -0.21871297, -0.0930003 ,\n",
              "        0.97519847, -0.78285106,  0.43896725,  0.6654516 , -0.99743988,\n",
              "       -0.57358761,  0.78239587, -0.28846733, -0.336711  , -0.81385599,\n",
              "        0.75130384,  0.83990699, -0.36063153,  0.16818827,  0.79228693,\n",
              "       -0.49978329,  0.94949435,  0.89109765, -0.72393541,  0.85701678,\n",
              "        0.17708176,  0.27152824, -0.07221446,  0.07049992, -0.40504278,\n",
              "        0.96312234,  0.74359376,  0.8852149 ,  0.26288365, -0.50973164,\n",
              "       -0.20812547, -0.73148533,  0.2456334 ,  0.33529347, -0.89256279,\n",
              "        0.33029662,  0.11684424,  0.89470305, -0.90129825,  0.70374991,\n",
              "       -0.56268452,  0.19651503, -0.86560603,  0.03122071, -0.76710376,\n",
              "       -0.90358531, -0.19810556,  0.39275103, -0.90518375,  0.72539285,\n",
              "       -0.6319884 , -0.72739835,  0.03053999, -0.62634098,  0.11313515])"
            ]
          },
          "metadata": {},
          "execution_count": 14
        }
      ],
      "source": [
        "import numpy as np\n",
        "Z = np.random.randint(0,2,100)\n",
        "np.logical_not(Z, out=Z)\n",
        "\n",
        "Z = np.random.uniform(-1.0,1.0,100)\n",
        "np.negative(Z, out=Z)"
      ]
    },
    {
      "cell_type": "markdown",
      "metadata": {
        "id": "RgAZ_3V4_YiM"
      },
      "source": [
        "#### 78. Consider 2 sets of points P0,P1 describing lines (2d) and a point p, how to compute distance from p to each line i  (P0\\[i\\],P1\\[i\\])? (★★★)"
      ]
    },
    {
      "cell_type": "code",
      "execution_count": 18,
      "metadata": {
        "id": "qW0R1TQY_YiM",
        "colab": {
          "base_uri": "https://localhost:8080/"
        },
        "outputId": "9d3fb69e-5209-43c9-e7a3-0e8f9e7c278f"
      },
      "outputs": [
        {
          "output_type": "stream",
          "name": "stdout",
          "text": [
            "[ 1.0782173   2.30908699  5.93753857 11.00736179  8.26830821  9.03222144\n",
            "  2.43451115  5.55181655  5.23247624  4.06206833]\n"
          ]
        }
      ],
      "source": [
        "import numpy as np\n",
        "def distance(P0, P1, p):\n",
        "    T = P1 - P0\n",
        "    L = (T**2).sum(axis=1)\n",
        "    U = -((P0[:,0]-p[...,0])*T[:,0] + (P0[:,1]-p[...,1])*T[:,1]) / L\n",
        "    U = U.reshape(len(U),1)\n",
        "    D = P0 + U*T - p\n",
        "    return np.sqrt((D**2).sum(axis=1))\n",
        "\n",
        "P0 = np.random.uniform(-10,10,(10,2))\n",
        "P1 = np.random.uniform(-10,10,(10,2))\n",
        "p  = np.random.uniform(-10,10,( 1,2))\n",
        "print(distance(P0, P1, p))"
      ]
    },
    {
      "cell_type": "markdown",
      "metadata": {
        "id": "xP9O2HKQ_YiM"
      },
      "source": [
        "#### 79. Consider 2 sets of points P0,P1 describing lines (2d) and a set of points P, how to compute distance from each point j (P\\[j\\]) to each line i (P0\\[i\\],P1\\[i\\])? (★★★)"
      ]
    },
    {
      "cell_type": "code",
      "execution_count": 19,
      "metadata": {
        "id": "m74DBpDA_YiM",
        "colab": {
          "base_uri": "https://localhost:8080/"
        },
        "outputId": "4c95fe37-8a02-4343-f396-4353f36925e3"
      },
      "outputs": [
        {
          "output_type": "stream",
          "name": "stdout",
          "text": [
            "[[ 8.24251476  6.26558589  6.58039771  0.33827676  0.10705544  1.40075259\n",
            "   8.18899262  4.45954065  1.07592444  2.63789985]\n",
            " [ 4.71289867  0.80709988  7.87960431  5.88599621  4.43792612  1.25451969\n",
            "   4.24586232  0.66557302  1.37514045  1.96986101]\n",
            " [12.62529823  4.2050016   3.68173311  8.49875246  1.22844063 13.74370793\n",
            "   6.58871469  1.55805438 11.02279389  2.7018076 ]\n",
            " [14.58760046  5.1722062   1.22369778  0.11934366  5.12259187  9.35307341\n",
            "   2.83791284  7.81442497  6.87687268  7.34390818]\n",
            " [10.72189631 10.49012364  4.65666247 14.40592316  1.89014917 16.02087131\n",
            "  12.52654434  3.00073496 13.13334142  0.87905236]\n",
            " [ 3.30595223  7.65245118 12.80759902 15.05083912 13.35344015  1.85670152\n",
            "   0.21674189 10.1919528   4.73470149 11.14529818]\n",
            " [12.27567964  5.45974851  3.9110973   9.67128921  0.63211205 14.23269076\n",
            "   7.79377337  0.6668187  11.47864795  2.01117615]\n",
            " [ 8.62893571  1.17538215  3.5861364   4.69347505  0.96586084  5.4270532\n",
            "   2.13307177  1.96530279  2.82394491  1.27671736]\n",
            " [ 3.88693577  7.39474679 13.60119589 14.95524489 13.79535781  2.69596222\n",
            "   0.45297622 10.41448749  5.57003878 11.52451011]\n",
            " [ 1.64047468  3.12788846  9.41992013 10.00276407  8.01647917  0.55156846\n",
            "   1.74475546  4.68824953  2.19070599  5.7129731 ]]\n"
          ]
        }
      ],
      "source": [
        "import numpy as np\n",
        "P0 = np.random.uniform(-10, 10, (10,2))\n",
        "P1 = np.random.uniform(-10,10,(10,2))\n",
        "p = np.random.uniform(-10, 10, (10,2))\n",
        "print(np.array([distance(P0,P1,p_i) for p_i in p]))"
      ]
    },
    {
      "cell_type": "markdown",
      "metadata": {
        "id": "CWygQSgC_YiM"
      },
      "source": [
        "#### 80. Consider an arbitrary array, write a function that extract a subpart with a fixed shape and centered on a given element (pad with a `fill` value when necessary) (★★★) \n",
        "(**hint**: minimum, maximum)"
      ]
    },
    {
      "cell_type": "code",
      "execution_count": 20,
      "metadata": {
        "id": "K0bYVTo8_YiN",
        "colab": {
          "base_uri": "https://localhost:8080/"
        },
        "outputId": "769e95ab-6aae-4dce-82e4-0f3ca4ef07fa"
      },
      "outputs": [
        {
          "output_type": "stream",
          "name": "stdout",
          "text": [
            "[[1 6 8 5 1 5 2 5 0 8]\n",
            " [6 5 1 4 5 8 3 6 1 6]\n",
            " [1 4 4 5 8 9 1 5 4 4]\n",
            " [5 1 8 6 9 0 3 6 6 3]\n",
            " [3 6 7 9 1 1 9 9 0 2]\n",
            " [4 2 5 4 2 0 5 4 9 7]\n",
            " [7 1 4 2 7 1 9 6 1 4]\n",
            " [6 1 6 2 6 1 4 9 3 3]\n",
            " [7 2 6 9 6 1 9 2 2 9]\n",
            " [6 9 6 2 2 4 5 3 7 2]]\n",
            "[[0 0 0 0 0]\n",
            " [0 1 6 8 5]\n",
            " [0 6 5 1 4]\n",
            " [0 1 4 4 5]\n",
            " [0 5 1 8 6]]\n"
          ]
        },
        {
          "output_type": "stream",
          "name": "stderr",
          "text": [
            "/usr/local/lib/python3.7/dist-packages/ipykernel_launcher.py:23: FutureWarning: Using a non-tuple sequence for multidimensional indexing is deprecated; use `arr[tuple(seq)]` instead of `arr[seq]`. In the future this will be interpreted as an array index, `arr[np.array(seq)]`, which will result either in an error or a different result.\n"
          ]
        }
      ],
      "source": [
        "Z = np.random.randint(0,10,(10,10))\n",
        "shape = (5,5)\n",
        "fill  = 0\n",
        "position = (1,1)\n",
        "\n",
        "R = np.ones(shape, dtype=Z.dtype)*fill\n",
        "P  = np.array(list(position)).astype(int)\n",
        "Rs = np.array(list(R.shape)).astype(int)\n",
        "Zs = np.array(list(Z.shape)).astype(int)\n",
        "\n",
        "R_start = np.zeros((len(shape),)).astype(int)\n",
        "R_stop  = np.array(list(shape)).astype(int)\n",
        "Z_start = (P-Rs//2)\n",
        "Z_stop  = (P+Rs//2)+Rs%2\n",
        "\n",
        "R_start = (R_start - np.minimum(Z_start,0)).tolist()\n",
        "Z_start = (np.maximum(Z_start,0)).tolist()\n",
        "R_stop = np.maximum(R_start, (R_stop - np.maximum(Z_stop-Zs,0))).tolist()\n",
        "Z_stop = (np.minimum(Z_stop,Zs)).tolist()\n",
        "\n",
        "r = [slice(start,stop) for start,stop in zip(R_start,R_stop)]\n",
        "z = [slice(start,stop) for start,stop in zip(Z_start,Z_stop)]\n",
        "R[r] = Z[z]\n",
        "print(Z)\n",
        "print(R)"
      ]
    },
    {
      "cell_type": "markdown",
      "metadata": {
        "id": "FY4Mtb8p_YiN"
      },
      "source": [
        "#### 81. Consider an array Z = \\[1,2,3,4,5,6,7,8,9,10,11,12,13,14\\], how to generate an array R = \\[\\[1,2,3,4\\], \\[2,3,4,5\\], \\[3,4,5,6\\], ..., \\[11,12,13,14\\]\\]? (★★★) \n",
        "(**hint**: stride\\_tricks.as\\_strided)"
      ]
    },
    {
      "cell_type": "code",
      "execution_count": 23,
      "metadata": {
        "id": "Zwr1oDZC_YiN",
        "colab": {
          "base_uri": "https://localhost:8080/"
        },
        "outputId": "bebd9508-fe25-4d13-8ee4-6b5c8c5afe42"
      },
      "outputs": [
        {
          "output_type": "stream",
          "name": "stdout",
          "text": [
            "[[ 1  2  3  4]\n",
            " [ 2  3  4  5]\n",
            " [ 3  4  5  6]\n",
            " [ 4  5  6  7]\n",
            " [ 5  6  7  8]\n",
            " [ 6  7  8  9]\n",
            " [ 7  8  9 10]\n",
            " [ 8  9 10 11]\n",
            " [ 9 10 11 12]\n",
            " [10 11 12 13]\n",
            " [11 12 13 14]]\n"
          ]
        }
      ],
      "source": [
        "Z = np.arange(1,15,dtype=np.uint32)\n",
        "R = stride_tricks.as_strided(Z,(11,4),(4,4))\n",
        "print (R)"
      ]
    },
    {
      "cell_type": "markdown",
      "metadata": {
        "id": "msQHcptq_YiN"
      },
      "source": [
        "#### 82. Compute a matrix rank (★★★) \n",
        "(**hint**: np.linalg.svd) (suggestion: np.linalg.svd)"
      ]
    },
    {
      "cell_type": "code",
      "execution_count": 24,
      "metadata": {
        "id": "E1ypFbLK_YiN",
        "colab": {
          "base_uri": "https://localhost:8080/"
        },
        "outputId": "17adb5dd-2de1-4373-a101-bf2914813b42"
      },
      "outputs": [
        {
          "output_type": "stream",
          "name": "stdout",
          "text": [
            "10\n"
          ]
        }
      ],
      "source": [
        "Z = np.random.uniform(0,1,(10,10))\n",
        "U, S, V = np.linalg.svd(Z) # Singular Value Decomposition\n",
        "rank = np.sum(S > 1e-10)\n",
        "print (rank)"
      ]
    },
    {
      "cell_type": "markdown",
      "metadata": {
        "id": "Xkk13VFI_YiN"
      },
      "source": [
        "#### 83. How to find the most frequent value in an array? \n",
        "(**hint**: np.bincount, argmax)"
      ]
    },
    {
      "cell_type": "code",
      "execution_count": 26,
      "metadata": {
        "id": "zNn0iTGO_YiN",
        "colab": {
          "base_uri": "https://localhost:8080/"
        },
        "outputId": "c7d28bbc-a11d-4577-87c4-e8a139b75d8c"
      },
      "outputs": [
        {
          "output_type": "stream",
          "name": "stdout",
          "text": [
            "5\n"
          ]
        }
      ],
      "source": [
        "Z = np.random.randint(0,10,50)\n",
        "print(np.bincount(Z).argmax())"
      ]
    },
    {
      "cell_type": "markdown",
      "metadata": {
        "id": "hNgttwFX_YiN"
      },
      "source": [
        "#### 84. Extract all the contiguous 3x3 blocks from a random 10x10 matrix (★★★) \n",
        "(**hint**: stride\\_tricks.as\\_strided)"
      ]
    },
    {
      "cell_type": "code",
      "execution_count": 27,
      "metadata": {
        "id": "O_g9UU8R_YiN",
        "colab": {
          "base_uri": "https://localhost:8080/"
        },
        "outputId": "223c8db7-579c-473c-e7ed-d878a2c0b6c1"
      },
      "outputs": [
        {
          "output_type": "stream",
          "name": "stdout",
          "text": [
            "[[[[0 4 0]\n",
            "   [3 2 3]\n",
            "   [3 4 4]]\n",
            "\n",
            "  [[4 0 0]\n",
            "   [2 3 0]\n",
            "   [4 4 3]]\n",
            "\n",
            "  [[0 0 3]\n",
            "   [3 0 1]\n",
            "   [4 3 1]]\n",
            "\n",
            "  [[0 3 1]\n",
            "   [0 1 3]\n",
            "   [3 1 4]]\n",
            "\n",
            "  [[3 1 3]\n",
            "   [1 3 0]\n",
            "   [1 4 3]]\n",
            "\n",
            "  [[1 3 4]\n",
            "   [3 0 0]\n",
            "   [4 3 4]]\n",
            "\n",
            "  [[3 4 4]\n",
            "   [0 0 0]\n",
            "   [3 4 0]]\n",
            "\n",
            "  [[4 4 2]\n",
            "   [0 0 4]\n",
            "   [4 0 0]]]\n",
            "\n",
            "\n",
            " [[[3 2 3]\n",
            "   [3 4 4]\n",
            "   [1 2 2]]\n",
            "\n",
            "  [[2 3 0]\n",
            "   [4 4 3]\n",
            "   [2 2 2]]\n",
            "\n",
            "  [[3 0 1]\n",
            "   [4 3 1]\n",
            "   [2 2 4]]\n",
            "\n",
            "  [[0 1 3]\n",
            "   [3 1 4]\n",
            "   [2 4 2]]\n",
            "\n",
            "  [[1 3 0]\n",
            "   [1 4 3]\n",
            "   [4 2 4]]\n",
            "\n",
            "  [[3 0 0]\n",
            "   [4 3 4]\n",
            "   [2 4 2]]\n",
            "\n",
            "  [[0 0 0]\n",
            "   [3 4 0]\n",
            "   [4 2 1]]\n",
            "\n",
            "  [[0 0 4]\n",
            "   [4 0 0]\n",
            "   [2 1 4]]]\n",
            "\n",
            "\n",
            " [[[3 4 4]\n",
            "   [1 2 2]\n",
            "   [2 2 1]]\n",
            "\n",
            "  [[4 4 3]\n",
            "   [2 2 2]\n",
            "   [2 1 2]]\n",
            "\n",
            "  [[4 3 1]\n",
            "   [2 2 4]\n",
            "   [1 2 0]]\n",
            "\n",
            "  [[3 1 4]\n",
            "   [2 4 2]\n",
            "   [2 0 3]]\n",
            "\n",
            "  [[1 4 3]\n",
            "   [4 2 4]\n",
            "   [0 3 3]]\n",
            "\n",
            "  [[4 3 4]\n",
            "   [2 4 2]\n",
            "   [3 3 2]]\n",
            "\n",
            "  [[3 4 0]\n",
            "   [4 2 1]\n",
            "   [3 2 0]]\n",
            "\n",
            "  [[4 0 0]\n",
            "   [2 1 4]\n",
            "   [2 0 4]]]\n",
            "\n",
            "\n",
            " [[[1 2 2]\n",
            "   [2 2 1]\n",
            "   [4 0 3]]\n",
            "\n",
            "  [[2 2 2]\n",
            "   [2 1 2]\n",
            "   [0 3 2]]\n",
            "\n",
            "  [[2 2 4]\n",
            "   [1 2 0]\n",
            "   [3 2 3]]\n",
            "\n",
            "  [[2 4 2]\n",
            "   [2 0 3]\n",
            "   [2 3 2]]\n",
            "\n",
            "  [[4 2 4]\n",
            "   [0 3 3]\n",
            "   [3 2 3]]\n",
            "\n",
            "  [[2 4 2]\n",
            "   [3 3 2]\n",
            "   [2 3 0]]\n",
            "\n",
            "  [[4 2 1]\n",
            "   [3 2 0]\n",
            "   [3 0 2]]\n",
            "\n",
            "  [[2 1 4]\n",
            "   [2 0 4]\n",
            "   [0 2 0]]]\n",
            "\n",
            "\n",
            " [[[2 2 1]\n",
            "   [4 0 3]\n",
            "   [1 4 4]]\n",
            "\n",
            "  [[2 1 2]\n",
            "   [0 3 2]\n",
            "   [4 4 4]]\n",
            "\n",
            "  [[1 2 0]\n",
            "   [3 2 3]\n",
            "   [4 4 4]]\n",
            "\n",
            "  [[2 0 3]\n",
            "   [2 3 2]\n",
            "   [4 4 3]]\n",
            "\n",
            "  [[0 3 3]\n",
            "   [3 2 3]\n",
            "   [4 3 4]]\n",
            "\n",
            "  [[3 3 2]\n",
            "   [2 3 0]\n",
            "   [3 4 4]]\n",
            "\n",
            "  [[3 2 0]\n",
            "   [3 0 2]\n",
            "   [4 4 3]]\n",
            "\n",
            "  [[2 0 4]\n",
            "   [0 2 0]\n",
            "   [4 3 3]]]\n",
            "\n",
            "\n",
            " [[[4 0 3]\n",
            "   [1 4 4]\n",
            "   [4 4 3]]\n",
            "\n",
            "  [[0 3 2]\n",
            "   [4 4 4]\n",
            "   [4 3 2]]\n",
            "\n",
            "  [[3 2 3]\n",
            "   [4 4 4]\n",
            "   [3 2 1]]\n",
            "\n",
            "  [[2 3 2]\n",
            "   [4 4 3]\n",
            "   [2 1 4]]\n",
            "\n",
            "  [[3 2 3]\n",
            "   [4 3 4]\n",
            "   [1 4 1]]\n",
            "\n",
            "  [[2 3 0]\n",
            "   [3 4 4]\n",
            "   [4 1 3]]\n",
            "\n",
            "  [[3 0 2]\n",
            "   [4 4 3]\n",
            "   [1 3 2]]\n",
            "\n",
            "  [[0 2 0]\n",
            "   [4 3 3]\n",
            "   [3 2 2]]]\n",
            "\n",
            "\n",
            " [[[1 4 4]\n",
            "   [4 4 3]\n",
            "   [4 2 1]]\n",
            "\n",
            "  [[4 4 4]\n",
            "   [4 3 2]\n",
            "   [2 1 4]]\n",
            "\n",
            "  [[4 4 4]\n",
            "   [3 2 1]\n",
            "   [1 4 1]]\n",
            "\n",
            "  [[4 4 3]\n",
            "   [2 1 4]\n",
            "   [4 1 1]]\n",
            "\n",
            "  [[4 3 4]\n",
            "   [1 4 1]\n",
            "   [1 1 0]]\n",
            "\n",
            "  [[3 4 4]\n",
            "   [4 1 3]\n",
            "   [1 0 3]]\n",
            "\n",
            "  [[4 4 3]\n",
            "   [1 3 2]\n",
            "   [0 3 4]]\n",
            "\n",
            "  [[4 3 3]\n",
            "   [3 2 2]\n",
            "   [3 4 0]]]\n",
            "\n",
            "\n",
            " [[[4 4 3]\n",
            "   [4 2 1]\n",
            "   [0 2 4]]\n",
            "\n",
            "  [[4 3 2]\n",
            "   [2 1 4]\n",
            "   [2 4 1]]\n",
            "\n",
            "  [[3 2 1]\n",
            "   [1 4 1]\n",
            "   [4 1 2]]\n",
            "\n",
            "  [[2 1 4]\n",
            "   [4 1 1]\n",
            "   [1 2 3]]\n",
            "\n",
            "  [[1 4 1]\n",
            "   [1 1 0]\n",
            "   [2 3 4]]\n",
            "\n",
            "  [[4 1 3]\n",
            "   [1 0 3]\n",
            "   [3 4 4]]\n",
            "\n",
            "  [[1 3 2]\n",
            "   [0 3 4]\n",
            "   [4 4 4]]\n",
            "\n",
            "  [[3 2 2]\n",
            "   [3 4 0]\n",
            "   [4 4 3]]]]\n"
          ]
        }
      ],
      "source": [
        "Z = np.random.randint(0,5,(10,10))\n",
        "n = 3\n",
        "i = 1 + (Z.shape[0]-3)\n",
        "j = 1 + (Z.shape[1]-3)\n",
        "C = stride_tricks.as_strided(Z, shape=(i, j, n, n), strides=Z.strides + Z.strides)\n",
        "print(C)"
      ]
    },
    {
      "cell_type": "markdown",
      "metadata": {
        "id": "m1C7BSFh_YiO"
      },
      "source": [
        "#### 85. Create a 2D array subclass such that Z\\[i,j\\] == Z\\[j,i\\] (★★★) \n",
        "(**hint**: class method)"
      ]
    },
    {
      "cell_type": "code",
      "execution_count": 28,
      "metadata": {
        "id": "B-YKORiL_YiO",
        "colab": {
          "base_uri": "https://localhost:8080/"
        },
        "outputId": "f3659ac1-dc03-410b-d1d8-fe4449250d1a"
      },
      "outputs": [
        {
          "output_type": "stream",
          "name": "stdout",
          "text": [
            "[[ 0  8  2 15  9]\n",
            " [ 8  0  0  0 14]\n",
            " [ 2  0  5 42 12]\n",
            " [15  0 42  1  4]\n",
            " [ 9 14 12  4  7]]\n"
          ]
        }
      ],
      "source": [
        "class Symetric(np.ndarray):\n",
        "    def __setitem__(self, index, value):\n",
        "        i,j = index\n",
        "        super(Symetric, self).__setitem__((i,j), value)\n",
        "        super(Symetric, self).__setitem__((j,i), value)\n",
        "\n",
        "def symetric(Z):\n",
        "    return np.asarray(Z + Z.T - np.diag(Z.diagonal())).view(Symetric)\n",
        "\n",
        "S = symetric(np.random.randint(0,10,(5,5)))\n",
        "S[2,3] = 42\n",
        "print(S)"
      ]
    },
    {
      "cell_type": "markdown",
      "metadata": {
        "id": "PwYl0_x1_YiO"
      },
      "source": [
        "#### 86. Consider a set of p matrices wich shape (n,n) and a set of p vectors with shape (n,1). How to compute the sum of of the p matrix products at once? (result has shape (n,1)) (★★★) \n",
        "(**hint**: np.tensordot)"
      ]
    },
    {
      "cell_type": "code",
      "execution_count": 29,
      "metadata": {
        "id": "RA_m9QB-_YiO",
        "colab": {
          "base_uri": "https://localhost:8080/"
        },
        "outputId": "0c2677d9-e82d-46ed-81cf-87067e04ed22"
      },
      "outputs": [
        {
          "output_type": "stream",
          "name": "stdout",
          "text": [
            "[[200.]\n",
            " [200.]\n",
            " [200.]\n",
            " [200.]\n",
            " [200.]\n",
            " [200.]\n",
            " [200.]\n",
            " [200.]\n",
            " [200.]\n",
            " [200.]\n",
            " [200.]\n",
            " [200.]\n",
            " [200.]\n",
            " [200.]\n",
            " [200.]\n",
            " [200.]\n",
            " [200.]\n",
            " [200.]\n",
            " [200.]\n",
            " [200.]]\n"
          ]
        }
      ],
      "source": [
        "p, n = 10, 20\n",
        "M = np.ones((p,n,n))\n",
        "V = np.ones((p,n,1))\n",
        "S = np.tensordot(M, V, axes=[[0, 2], [0, 1]])\n",
        "print(S)"
      ]
    },
    {
      "cell_type": "markdown",
      "metadata": {
        "id": "HrUQbF1S_YiO"
      },
      "source": [
        "#### 87. Consider a 16x16 array, how to get the block-sum (block size is 4x4)? (★★★) \n",
        "(**hint**: np.add.reduceat)"
      ]
    },
    {
      "cell_type": "code",
      "execution_count": 30,
      "metadata": {
        "id": "5dW3IyeP_YiO",
        "colab": {
          "base_uri": "https://localhost:8080/"
        },
        "outputId": "ae6ac8af-e5f8-4b72-c151-8d3c1791ac0d"
      },
      "outputs": [
        {
          "output_type": "stream",
          "name": "stdout",
          "text": [
            "[[16. 16. 16. 16.]\n",
            " [16. 16. 16. 16.]\n",
            " [16. 16. 16. 16.]\n",
            " [16. 16. 16. 16.]]\n"
          ]
        }
      ],
      "source": [
        "Z = np.ones((16,16))\n",
        "k = 4\n",
        "S = np.add.reduceat(np.add.reduceat(Z, np.arange(0, Z.shape[0], k), axis=0),\n",
        "                                       np.arange(0, Z.shape[1], k), axis=1)\n",
        "print(S)"
      ]
    },
    {
      "cell_type": "markdown",
      "metadata": {
        "id": "TzcHgQWm_YiO"
      },
      "source": [
        "#### 88. How to implement the Game of Life using numpy arrays? (★★★)"
      ]
    },
    {
      "cell_type": "code",
      "execution_count": 31,
      "metadata": {
        "id": "Qp2Zfdgo_YiO",
        "colab": {
          "base_uri": "https://localhost:8080/"
        },
        "outputId": "df29fe94-7be9-4d3c-e4a8-ece0c197345a"
      },
      "outputs": [
        {
          "output_type": "stream",
          "name": "stdout",
          "text": [
            "[[0 0 0 ... 0 0 0]\n",
            " [0 0 0 ... 0 0 0]\n",
            " [0 0 0 ... 0 0 0]\n",
            " ...\n",
            " [0 0 0 ... 1 0 0]\n",
            " [0 0 0 ... 0 0 0]\n",
            " [0 0 0 ... 0 0 0]]\n"
          ]
        }
      ],
      "source": [
        "def iterate(Z):\n",
        "    # Count neighbours\n",
        "    N = (Z[0:-2,0:-2] + Z[0:-2,1:-1] + Z[0:-2,2:] +\n",
        "         Z[1:-1,0:-2]                + Z[1:-1,2:] +\n",
        "         Z[2:  ,0:-2] + Z[2:  ,1:-1] + Z[2:  ,2:])\n",
        "\n",
        "    # Apply rules\n",
        "    birth = (N==3) & (Z[1:-1,1:-1]==0)\n",
        "    survive = ((N==2) | (N==3)) & (Z[1:-1,1:-1]==1)\n",
        "    Z[...] = 0\n",
        "    Z[1:-1,1:-1][birth | survive] = 1\n",
        "    return Z\n",
        "\n",
        "Z = np.random.randint(0,2,(50,50))\n",
        "for i in range(100): Z = iterate(Z)\n",
        "print(Z)"
      ]
    },
    {
      "cell_type": "markdown",
      "metadata": {
        "id": "Puv-a3zF_YiP"
      },
      "source": [
        "#### 89. How to get the n largest values of an array (★★★) \n",
        "(**hint**: np.argsort | np.argpartition)"
      ]
    },
    {
      "cell_type": "code",
      "execution_count": 33,
      "metadata": {
        "id": "8rWVkx85_YiP",
        "colab": {
          "base_uri": "https://localhost:8080/"
        },
        "outputId": "2b60cd70-c145-4fe6-c0cd-c4214fe66754"
      },
      "outputs": [
        {
          "output_type": "stream",
          "name": "stdout",
          "text": [
            "[9995 9996 9997 9998 9999]\n",
            "[9998 9999 9997 9996 9995]\n"
          ]
        }
      ],
      "source": [
        "Z = np.arange(10000)\n",
        "np.random.shuffle(Z)\n",
        "n = 5\n",
        "\n",
        "#np.argsort\n",
        "print (Z[np.argsort(Z)[-n:]])\n",
        "\n",
        "#np.argpartition\n",
        "print (Z[np.argpartition(-Z,n)[:n]])"
      ]
    },
    {
      "cell_type": "markdown",
      "metadata": {
        "id": "neIzGjSL_YiP"
      },
      "source": [
        "#### 90. Given an arbitrary number of vectors, build the cartesian product (every combinations of every item) (★★★) \n",
        "(**hint**: np.indices)"
      ]
    },
    {
      "cell_type": "code",
      "execution_count": 34,
      "metadata": {
        "scrolled": true,
        "id": "FGz77Lmc_YiP",
        "colab": {
          "base_uri": "https://localhost:8080/"
        },
        "outputId": "0ff0ebae-436c-4a37-89df-a9f65d07e361"
      },
      "outputs": [
        {
          "output_type": "stream",
          "name": "stdout",
          "text": [
            "[[1 4 6]\n",
            " [1 4 7]\n",
            " [1 5 6]\n",
            " [1 5 7]\n",
            " [2 4 6]\n",
            " [2 4 7]\n",
            " [2 5 6]\n",
            " [2 5 7]\n",
            " [3 4 6]\n",
            " [3 4 7]\n",
            " [3 5 6]\n",
            " [3 5 7]]\n"
          ]
        }
      ],
      "source": [
        "def cartesian(arrays):\n",
        "    arrays = [np.asarray(a) for a in arrays]\n",
        "    shape = (len(x) for x in arrays)\n",
        "\n",
        "    ix = np.indices(shape, dtype=int)\n",
        "    ix = ix.reshape(len(arrays), -1).T\n",
        "\n",
        "    for n, arr in enumerate(arrays):\n",
        "        ix[:, n] = arrays[n][ix[:, n]]\n",
        "\n",
        "    return ix\n",
        "\n",
        "print (cartesian(([1, 2, 3], [4, 5], [6, 7])))"
      ]
    },
    {
      "cell_type": "markdown",
      "metadata": {
        "id": "A5UOHRfv_YiP"
      },
      "source": [
        "#### 91. How to create a record array from a regular array? (★★★) \n",
        "(**hint**: np.core.records.fromarrays)"
      ]
    },
    {
      "cell_type": "code",
      "execution_count": 35,
      "metadata": {
        "id": "i_vaUOLT_YiP",
        "colab": {
          "base_uri": "https://localhost:8080/"
        },
        "outputId": "f2f136d9-a985-4aa7-c9e0-d4fcc3fdcebf"
      },
      "outputs": [
        {
          "output_type": "stream",
          "name": "stdout",
          "text": [
            "[(b'Hello', 2.5, 3) (b'World', 3.6, 2)]\n"
          ]
        }
      ],
      "source": [
        "Z = np.array([(\"Hello\", 2.5, 3),\n",
        "              (\"World\", 3.6, 2)])\n",
        "R = np.core.records.fromarrays(Z.T,\n",
        "                               names='col1, col2, col3',\n",
        "                               formats = 'S8, f8, i8')\n",
        "print(R)"
      ]
    },
    {
      "cell_type": "markdown",
      "metadata": {
        "id": "ZDx84---_YiP"
      },
      "source": [
        "#### 92. Consider a large vector Z, compute Z to the power of 3 using 3 different methods (★★★) \n",
        "(**hint**: np.power, \\*, np.einsum)"
      ]
    },
    {
      "cell_type": "code",
      "execution_count": 36,
      "metadata": {
        "id": "tFHSX1M9_YiP",
        "colab": {
          "base_uri": "https://localhost:8080/"
        },
        "outputId": "ca7d788a-0a66-4f07-ea66-e0388e7bbe8c"
      },
      "outputs": [
        {
          "output_type": "stream",
          "name": "stdout",
          "text": [
            "3.75 s ± 16.2 ms per loop (mean ± std. dev. of 7 runs, 1 loop each)\n",
            "147 ms ± 1.51 ms per loop (mean ± std. dev. of 7 runs, 10 loops each)\n",
            "124 ms ± 491 µs per loop (mean ± std. dev. of 7 runs, 10 loops each)\n"
          ]
        }
      ],
      "source": [
        "x = np.random.rand(int(5e7))\n",
        "\n",
        "%timeit np.power(x,3)\n",
        "%timeit x*x*x\n",
        "%timeit np.einsum('i,i,i->i',x,x,x)"
      ]
    },
    {
      "cell_type": "markdown",
      "metadata": {
        "id": "Fg3shK0-_YiQ"
      },
      "source": [
        "#### 93. Consider two arrays A and B of shape (8,3) and (2,2). How to find rows of A that contain elements of each row of B regardless of the order of the elements in B? (★★★) \n",
        "(**hint**: np.where)"
      ]
    },
    {
      "cell_type": "code",
      "execution_count": 37,
      "metadata": {
        "id": "ShjWloL6_YiQ",
        "colab": {
          "base_uri": "https://localhost:8080/"
        },
        "outputId": "0a78b05b-540f-4183-99b7-34c24478750d"
      },
      "outputs": [
        {
          "output_type": "stream",
          "name": "stdout",
          "text": [
            "[3 4 6 7]\n"
          ]
        }
      ],
      "source": [
        "A = np.random.randint(0,5,(8,3))\n",
        "B = np.random.randint(0,5,(2,2))\n",
        "\n",
        "C = (A[..., np.newaxis, np.newaxis] == B)\n",
        "rows = np.where(C.any((3,1)).all(1))[0]\n",
        "print(rows)"
      ]
    },
    {
      "cell_type": "markdown",
      "metadata": {
        "id": "T2ci72YF_YiQ"
      },
      "source": [
        "#### 94. Considering a 10x3 matrix, extract rows with unequal values (e.g. \\[2,2,3\\]) (★★★)"
      ]
    },
    {
      "cell_type": "code",
      "execution_count": 38,
      "metadata": {
        "id": "F7TCjUB__YiQ",
        "colab": {
          "base_uri": "https://localhost:8080/"
        },
        "outputId": "3f654a15-9b41-4b0b-885b-ba1026842758"
      },
      "outputs": [
        {
          "output_type": "stream",
          "name": "stdout",
          "text": [
            "[[4 1 4]\n",
            " [2 2 4]\n",
            " [0 4 1]\n",
            " [4 0 3]\n",
            " [4 1 4]\n",
            " [3 1 2]\n",
            " [1 1 3]\n",
            " [3 2 4]\n",
            " [3 3 2]\n",
            " [4 3 0]]\n",
            "[[4 1 4]\n",
            " [2 2 4]\n",
            " [0 4 1]\n",
            " [4 0 3]\n",
            " [4 1 4]\n",
            " [3 1 2]\n",
            " [1 1 3]\n",
            " [3 2 4]\n",
            " [3 3 2]\n",
            " [4 3 0]]\n",
            "[[4 1 4]\n",
            " [2 2 4]\n",
            " [0 4 1]\n",
            " [4 0 3]\n",
            " [4 1 4]\n",
            " [3 1 2]\n",
            " [1 1 3]\n",
            " [3 2 4]\n",
            " [3 3 2]\n",
            " [4 3 0]]\n"
          ]
        }
      ],
      "source": [
        "Z = np.random.randint(0,5,(10,3))\n",
        "print(Z)\n",
        "#string arrays and record arrays\n",
        "E = np.all(Z[:,1:] == Z[:,:-1], axis=1)\n",
        "U = Z[~E]\n",
        "print(U)\n",
        "#numerical arrays\n",
        "U = Z[Z.max(axis=1) != Z.min(axis=1),:]\n",
        "print(U)"
      ]
    },
    {
      "cell_type": "markdown",
      "metadata": {
        "id": "Yf_syPXH_YiQ"
      },
      "source": [
        "#### 95. Convert a vector of ints into a matrix binary representation (★★★) \n",
        "(**hint**: np.unpackbits)"
      ]
    },
    {
      "cell_type": "code",
      "execution_count": 40,
      "metadata": {
        "id": "42GfgAuP_YiQ",
        "colab": {
          "base_uri": "https://localhost:8080/"
        },
        "outputId": "eeee6518-1bfa-4c09-88fd-e9609720e3ab"
      },
      "outputs": [
        {
          "output_type": "stream",
          "name": "stdout",
          "text": [
            "[[0 0 0 0 0 0 0 0]\n",
            " [0 0 0 0 0 0 0 1]\n",
            " [0 0 0 0 0 0 1 0]\n",
            " [0 0 0 0 0 0 1 1]\n",
            " [0 0 0 0 1 1 1 1]\n",
            " [0 0 0 1 0 0 0 0]\n",
            " [0 0 1 0 0 0 0 0]\n",
            " [0 1 0 0 0 0 0 0]\n",
            " [1 0 0 0 0 0 0 0]]\n"
          ]
        }
      ],
      "source": [
        "I = np.array([0, 1, 2, 3, 15, 16, 32, 64, 128], dtype=np.uint8)\n",
        "print(np.unpackbits(I[:, np.newaxis], axis=1))"
      ]
    },
    {
      "cell_type": "markdown",
      "metadata": {
        "id": "XyCOgHN8_YiQ"
      },
      "source": [
        "#### 96. Given a two dimensional array, how to extract unique rows? (★★★) \n",
        "(**hint**: np.ascontiguousarray)"
      ]
    },
    {
      "cell_type": "code",
      "execution_count": 41,
      "metadata": {
        "id": "-R7QA99I_YiQ",
        "colab": {
          "base_uri": "https://localhost:8080/"
        },
        "outputId": "182a67b9-fd11-433f-df6a-aca516e59ab7"
      },
      "outputs": [
        {
          "output_type": "stream",
          "name": "stdout",
          "text": [
            "[[0 0 1]\n",
            " [0 1 1]\n",
            " [1 1 0]]\n"
          ]
        }
      ],
      "source": [
        "Z = np.random.randint(0,2,(6,3))\n",
        "T = np.ascontiguousarray(Z).view(np.dtype((np.void, Z.dtype.itemsize * Z.shape[1])))\n",
        "_, idx = np.unique(T, return_index=True)\n",
        "uZ = Z[idx]\n",
        "print(uZ)"
      ]
    },
    {
      "cell_type": "markdown",
      "metadata": {
        "id": "gbp8g5d__YiQ"
      },
      "source": [
        "#### 97. Considering 2 vectors A & B, write the einsum equivalent of inner, outer, sum, and mul function (★★★) \n",
        "(**hint**: np.einsum)"
      ]
    },
    {
      "cell_type": "code",
      "execution_count": 43,
      "metadata": {
        "id": "Za-cZnsx_YiR",
        "colab": {
          "base_uri": "https://localhost:8080/"
        },
        "outputId": "f7d711a6-1e42-4fce-a51f-6335b7ee66c0"
      },
      "outputs": [
        {
          "output_type": "execute_result",
          "data": {
            "text/plain": [
              "array([[0.0050953 , 0.02707437, 0.01083849, 0.02820981, 0.02888306,\n",
              "        0.00879021, 0.02657079, 0.03087185, 0.01120407, 0.00888918],\n",
              "       [0.0934128 , 0.49635837, 0.19870363, 0.51717444, 0.52951727,\n",
              "        0.16115227, 0.48712606, 0.56597801, 0.20540575, 0.16296667],\n",
              "       [0.05610204, 0.29810386, 0.1193378 , 0.31060561, 0.31801849,\n",
              "        0.09678514, 0.2925591 , 0.33991615, 0.12336298, 0.09787483],\n",
              "       [0.10630608, 0.56486812, 0.22612965, 0.58855732, 0.60260377,\n",
              "        0.18339527, 0.55436152, 0.64409699, 0.23375683, 0.18546011],\n",
              "       [0.06574882, 0.34936303, 0.13985803, 0.36401447, 0.372702  ,\n",
              "        0.11342741, 0.34286484, 0.39836498, 0.14457533, 0.11470448],\n",
              "       [0.06207643, 0.32984942, 0.13204628, 0.3436825 , 0.35188479,\n",
              "        0.10709194, 0.32371419, 0.37611437, 0.1365001 , 0.10829768],\n",
              "       [0.01042516, 0.05539513, 0.02217594, 0.05771827, 0.05909576,\n",
              "        0.01798509, 0.05436477, 0.0631649 , 0.02292392, 0.01818758],\n",
              "       [0.01541543, 0.08191145, 0.03279103, 0.08534662, 0.08738349,\n",
              "        0.02659412, 0.08038789, 0.09340042, 0.03389705, 0.02689354],\n",
              "       [0.09438478, 0.50152307, 0.20077118, 0.52255573, 0.53502699,\n",
              "        0.16282909, 0.49219469, 0.57186711, 0.20754303, 0.16466237],\n",
              "       [0.1004504 , 0.53375338, 0.21367371, 0.55613771, 0.56941043,\n",
              "        0.17329328, 0.52382552, 0.60861808, 0.22088076, 0.17524438]])"
            ]
          },
          "metadata": {},
          "execution_count": 43
        }
      ],
      "source": [
        "A = np.random.uniform(0,1,10)\n",
        "B = np.random.uniform(0,1,10)\n",
        "\n",
        "np.einsum('i->', A)\n",
        "np.einsum('i,i->i', A, B)\n",
        "np.einsum('i,i', A, B)\n",
        "np.einsum('i,j->ij', A, B)"
      ]
    },
    {
      "cell_type": "markdown",
      "metadata": {
        "id": "QQEHHwvA_YiR"
      },
      "source": [
        "#### 98. Considering a path described by two vectors (X,Y), how to sample it using equidistant samples (★★★)? \n",
        "(**hint**: np.cumsum, np.interp)"
      ]
    },
    {
      "cell_type": "code",
      "execution_count": 46,
      "metadata": {
        "collapsed": true,
        "id": "bLi1x_N-_YiR"
      },
      "outputs": [],
      "source": [
        "phi = np.arange(0, 10*np.pi, 0.1)\n",
        "a = 1\n",
        "x = a*phi*np.cos(phi)\n",
        "y = a*phi*np.sin(phi)\n",
        "\n",
        "dr = (np.diff(x)**2 + np.diff(y)**2)**.5\n",
        "r = np.zeros_like(x)\n",
        "r[1:] = np.cumsum(dr)               \n",
        "r_int = np.linspace(0, r.max(), 200)\n",
        "x_int = np.interp(r_int, r, x)\n",
        "y_int = np.interp(r_int, r, y)"
      ]
    },
    {
      "cell_type": "markdown",
      "metadata": {
        "id": "BuW_-1rz_YiR"
      },
      "source": [
        "#### 99. Given an integer n and a 2D array X, select from X the rows which can be interpreted as draws from a multinomial distribution with n degrees, i.e., the rows which only contain integers and which sum to n. (★★★) \n",
        "(**hint**: np.logical\\_and.reduce, np.mod)"
      ]
    },
    {
      "cell_type": "code",
      "execution_count": 47,
      "metadata": {
        "id": "MPEkAZ4V_YiR",
        "colab": {
          "base_uri": "https://localhost:8080/"
        },
        "outputId": "bcf415b7-00ef-4c9e-e2cc-edf819100de5"
      },
      "outputs": [
        {
          "output_type": "stream",
          "name": "stdout",
          "text": [
            "[[2. 0. 1. 1.]]\n"
          ]
        }
      ],
      "source": [
        "X = np.asarray([[1.0, 0.0, 3.0, 8.0],\n",
        "                [2.0, 0.0, 1.0, 1.0],\n",
        "                [1.5, 2.5, 1.0, 0.0]])\n",
        "n = 4\n",
        "M = np.logical_and.reduce(np.mod(X, 1) == 0, axis=-1)\n",
        "M &= (X.sum(axis=-1) == n)\n",
        "print(X[M])"
      ]
    },
    {
      "cell_type": "markdown",
      "metadata": {
        "id": "gaz6V63a_YiR"
      },
      "source": [
        "#### 100. Compute bootstrapped 95% confidence intervals for the mean of a 1D array X (i.e., resample the elements of an array with replacement N times, compute the mean of each sample, and then compute percentiles over the means). (★★★) \n",
        "(**hint**: np.percentile)"
      ]
    },
    {
      "cell_type": "code",
      "execution_count": 48,
      "metadata": {
        "id": "DWg4NQIB_YiR",
        "colab": {
          "base_uri": "https://localhost:8080/"
        },
        "outputId": "90f726d6-9486-4b11-fc4b-ae52609b6bca"
      },
      "outputs": [
        {
          "output_type": "stream",
          "name": "stdout",
          "text": [
            "[-0.35221373  0.02066579]\n"
          ]
        }
      ],
      "source": [
        "X = np.random.randn(100)\n",
        "N = 1000\n",
        "idx = np.random.randint(0, X.size, (N, X.size))\n",
        "means = X[idx].mean(axis=1)\n",
        "confint = np.percentile(means, [2.5, 97.5])\n",
        "print(confint)"
      ]
    }
  ],
  "metadata": {
    "kernelspec": {
      "display_name": "Python 3",
      "language": "python",
      "name": "python3"
    },
    "language_info": {
      "codemirror_mode": {
        "name": "ipython",
        "version": 3
      },
      "file_extension": ".py",
      "mimetype": "text/x-python",
      "name": "python",
      "nbconvert_exporter": "python",
      "pygments_lexer": "ipython3",
      "version": "3.8.3"
    },
    "colab": {
      "name": "Copy of Numpy_tasks.ipynb",
      "provenance": [],
      "collapsed_sections": []
    }
  },
  "nbformat": 4,
  "nbformat_minor": 0
}